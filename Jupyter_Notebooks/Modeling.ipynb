{
 "cells": [
  {
   "cell_type": "code",
   "execution_count": 1,
   "id": "15f925bc",
   "metadata": {
    "scrolled": false
   },
   "outputs": [
    {
     "data": {
      "text/html": [
       "        <script type=\"text/javascript\">\n",
       "        window.PlotlyConfig = {MathJaxConfig: 'local'};\n",
       "        if (window.MathJax) {MathJax.Hub.Config({SVG: {font: \"STIX-Web\"}});}\n",
       "        if (typeof require !== 'undefined') {\n",
       "        require.undef(\"plotly\");\n",
       "        requirejs.config({\n",
       "            paths: {\n",
       "                'plotly': ['https://cdn.plot.ly/plotly-2.2.0.min']\n",
       "            }\n",
       "        });\n",
       "        require(['plotly'], function(Plotly) {\n",
       "            window._Plotly = Plotly;\n",
       "        });\n",
       "        }\n",
       "        </script>\n",
       "        "
      ]
     },
     "metadata": {},
     "output_type": "display_data"
    }
   ],
   "source": [
    "import time\n",
    "import math\n",
    "import logging \n",
    "import random\n",
    "import itertools\n",
    "\n",
    "import pandas as pd\n",
    "import numpy as np\n",
    "from numpy import where\n",
    "import scipy as sci\n",
    "import seaborn as sns\n",
    "\n",
    "from matplotlib import pyplot as plt\n",
    "%matplotlib inline\n",
    "import warnings\n",
    "warnings.filterwarnings('ignore')\n",
    "\n",
    "\n",
    "import plotly.offline as py\n",
    "import plotly.graph_objs as go\n",
    "py.init_notebook_mode(connected=True)\n",
    "\n",
    "from collections import Counter\n",
    "\n",
    "# imblearn\n",
    "from imblearn.over_sampling import RandomOverSampler as ros\n",
    "from imblearn.under_sampling import RandomUnderSampler as rus\n",
    "from imblearn.over_sampling import SMOTE\n",
    "from imblearn import under_sampling, over_sampling, combine\n",
    "\n",
    "# sklearn\n",
    "from sklearn.linear_model import LogisticRegression\n",
    "from sklearn.metrics import f1_score, roc_auc_score, roc_curve\n",
    "from sklearn.metrics import classification_report\n",
    "from sklearn.metrics import confusion_matrix\n",
    "from sklearn.ensemble import RandomForestClassifier\n",
    "from sklearn.tree import DecisionTreeClassifier\n",
    "from sklearn.metrics import precision_score, roc_auc_score, accuracy_score, confusion_matrix, recall_score, plot_confusion_matrix\n",
    "from sklearn.model_selection import train_test_split, GridSearchCV, cross_validate, cross_val_score, StratifiedKFold, RepeatedStratifiedKFold\n",
    "\n",
    "\n",
    "import catboost as cb\n",
    "import xgboost as xgb\n",
    "import seaborn as sns\n",
    "from scipy.stats import spearmanr\n",
    "from xgboost import XGBClassifier\n",
    "from catboost import CatBoostClassifier\n",
    "from hyperopt import hp, tpe, Trials, STATUS_OK\n",
    "from hyperopt import fmin\n",
    "\n",
    "\n",
    "# save model\n",
    "import pickle"
   ]
  },
  {
   "cell_type": "markdown",
   "id": "d3d303be",
   "metadata": {},
   "source": [
    "# Helper Functions"
   ]
  },
  {
   "cell_type": "code",
   "execution_count": 2,
   "id": "0d33740e",
   "metadata": {
    "deletable": false,
    "editable": false,
    "run_control": {
     "frozen": true
    }
   },
   "outputs": [],
   "source": [
    "def generate_model_report(y_actual, y_predicted):\n",
    "    print('Accuracy = ', accuracy_score(y_actual, y_predicted))\n",
    "    print('Precision = ', precision_score(y_actual, y_predicted))\n",
    "    print('Recall = ', recall_score(y_actual, y_predicted))\n",
    "    print('F1 Score = ', f1_score(y_actual, y_predicted))\n",
    "    pass"
   ]
  },
  {
   "cell_type": "code",
   "execution_count": 3,
   "id": "746ca958",
   "metadata": {
    "deletable": false,
    "editable": false,
    "run_control": {
     "frozen": true
    }
   },
   "outputs": [],
   "source": [
    "def generate_auc_roc_curve(clf, X_test):\n",
    "    y_pred_proba = clf.predict_proba(X_test)[:, 1]\n",
    "    fpr, tpr, thresholds = roc_curve(y_test, y_pred_proba)\n",
    "    auc = roc_auc_score(y_test, y_pred_proba)\n",
    "    plt.plot(fpr,tpr,label='AUC ROC Curve with Area Under the Curve = '+str(auc))\n",
    "    plt.legend(loc=4)\n",
    "    plt.show()\n",
    "    pass"
   ]
  },
  {
   "cell_type": "code",
   "execution_count": 4,
   "id": "673f060d",
   "metadata": {
    "deletable": false,
    "editable": false,
    "run_control": {
     "frozen": true
    }
   },
   "outputs": [],
   "source": [
    "#Evaluation of Model - Confusion Matrix Plot\n",
    "def plot_confusion_matrix(cm, classes,\n",
    "                          normalize=False,\n",
    "                          title='Confusion matrix',\n",
    "                          cmap=plt.cm.Blues):\n",
    "    plt.imshow(cm, interpolation='nearest', cmap=cmap)\n",
    "    plt.title(title)\n",
    "\n",
    "    tick_marks = np.arange(len(classes))\n",
    "    plt.xticks(tick_marks, classes, rotation=0)\n",
    "    plt.yticks(tick_marks, classes)\n",
    "\n",
    "    fmt = '.2f' if normalize else 'd'\n",
    "    thresh = cm.max() / 2.\n",
    "    for i, j in itertools.product(range(cm.shape[0]), range(cm.shape[1])):\n",
    "        plt.text(j, i, format(cm[i, j], fmt),\n",
    "                 horizontalalignment=\"center\",\n",
    "                 color=\"white\" if cm[i, j] > thresh else \"black\")\n",
    "    \n",
    "    plt.ylabel('True label')\n",
    "    plt.xlabel('Predicted label')\n",
    "    plt.tight_layout()\n"
   ]
  },
  {
   "cell_type": "code",
   "execution_count": 5,
   "id": "de1dfe0c",
   "metadata": {},
   "outputs": [],
   "source": [
    "# # Plot Confusion Matrix\n",
    "# plot_confusion_matrix(model, X_test, y_test,\n",
    "#                       cmap=pyplot.cm.Blues,\n",
    "#                       normalize='true',\n",
    "#                      display_labels=['Foreclosed', 'Not Foreclosed'])\n",
    "# pyplot.grid(False)\n",
    "# pyplot.title(\"XGBoost Confusion Matrix on Test Set\")\n",
    "# pyplot.savefig('../Figures/Models/confusion_matrix.png')\n",
    "# pyplot.show()"
   ]
  },
  {
   "cell_type": "markdown",
   "id": "c605d101",
   "metadata": {
    "heading_collapsed": true
   },
   "source": [
    "# Data"
   ]
  },
  {
   "cell_type": "code",
   "execution_count": 2,
   "id": "a2f9ed80",
   "metadata": {
    "hidden": true
   },
   "outputs": [],
   "source": [
    "# Read column names from file\n",
    "cols = ['Monthly Reporting Period', 'Origination Date', 'Maturity Date', 'Loan Identifier']\n",
    "df = pd.read_csv('../Final_Clean_Data.csv', index_col=0).drop(cols, axis = 'columns')"
   ]
  },
  {
   "cell_type": "code",
   "execution_count": 3,
   "id": "9f600dad",
   "metadata": {
    "hidden": true
   },
   "outputs": [
    {
     "data": {
      "text/html": [
       "<div>\n",
       "<style scoped>\n",
       "    .dataframe tbody tr th:only-of-type {\n",
       "        vertical-align: middle;\n",
       "    }\n",
       "\n",
       "    .dataframe tbody tr th {\n",
       "        vertical-align: top;\n",
       "    }\n",
       "\n",
       "    .dataframe thead th {\n",
       "        text-align: right;\n",
       "    }\n",
       "</style>\n",
       "<table border=\"1\" class=\"dataframe\">\n",
       "  <thead>\n",
       "    <tr style=\"text-align: right;\">\n",
       "      <th></th>\n",
       "      <th>Current Interest Rate</th>\n",
       "      <th>Original UPB</th>\n",
       "      <th>Original Loan Term</th>\n",
       "      <th>Loan Age</th>\n",
       "      <th>Original Loan to Value Ratio (LTV)</th>\n",
       "      <th>Number of Borrowers</th>\n",
       "      <th>Debt-To-Income (DTI)</th>\n",
       "      <th>First Time Home Buyer Indicator</th>\n",
       "      <th>Modification Flag</th>\n",
       "      <th>Home Ready Program Indicator</th>\n",
       "      <th>High Balance Loan Indicator</th>\n",
       "      <th>Minimum Credit Score</th>\n",
       "      <th>Foreclosed</th>\n",
       "    </tr>\n",
       "  </thead>\n",
       "  <tbody>\n",
       "    <tr>\n",
       "      <th>0</th>\n",
       "      <td>3.750</td>\n",
       "      <td>65000</td>\n",
       "      <td>360</td>\n",
       "      <td>59</td>\n",
       "      <td>74</td>\n",
       "      <td>1</td>\n",
       "      <td>31</td>\n",
       "      <td>0</td>\n",
       "      <td>0</td>\n",
       "      <td>0</td>\n",
       "      <td>0</td>\n",
       "      <td>814</td>\n",
       "      <td>0</td>\n",
       "    </tr>\n",
       "    <tr>\n",
       "      <th>1</th>\n",
       "      <td>4.000</td>\n",
       "      <td>153000</td>\n",
       "      <td>360</td>\n",
       "      <td>58</td>\n",
       "      <td>95</td>\n",
       "      <td>2</td>\n",
       "      <td>17</td>\n",
       "      <td>0</td>\n",
       "      <td>0</td>\n",
       "      <td>0</td>\n",
       "      <td>0</td>\n",
       "      <td>788</td>\n",
       "      <td>0</td>\n",
       "    </tr>\n",
       "    <tr>\n",
       "      <th>2</th>\n",
       "      <td>3.625</td>\n",
       "      <td>114000</td>\n",
       "      <td>360</td>\n",
       "      <td>54</td>\n",
       "      <td>95</td>\n",
       "      <td>2</td>\n",
       "      <td>37</td>\n",
       "      <td>1</td>\n",
       "      <td>0</td>\n",
       "      <td>0</td>\n",
       "      <td>0</td>\n",
       "      <td>745</td>\n",
       "      <td>0</td>\n",
       "    </tr>\n",
       "    <tr>\n",
       "      <th>3</th>\n",
       "      <td>3.875</td>\n",
       "      <td>150000</td>\n",
       "      <td>360</td>\n",
       "      <td>56</td>\n",
       "      <td>70</td>\n",
       "      <td>2</td>\n",
       "      <td>16</td>\n",
       "      <td>0</td>\n",
       "      <td>0</td>\n",
       "      <td>0</td>\n",
       "      <td>0</td>\n",
       "      <td>810</td>\n",
       "      <td>0</td>\n",
       "    </tr>\n",
       "    <tr>\n",
       "      <th>4</th>\n",
       "      <td>4.250</td>\n",
       "      <td>40000</td>\n",
       "      <td>360</td>\n",
       "      <td>59</td>\n",
       "      <td>24</td>\n",
       "      <td>2</td>\n",
       "      <td>36</td>\n",
       "      <td>0</td>\n",
       "      <td>0</td>\n",
       "      <td>0</td>\n",
       "      <td>0</td>\n",
       "      <td>755</td>\n",
       "      <td>0</td>\n",
       "    </tr>\n",
       "  </tbody>\n",
       "</table>\n",
       "</div>"
      ],
      "text/plain": [
       "   Current Interest Rate  Original UPB  Original Loan Term  Loan Age  \\\n",
       "0                  3.750         65000                 360        59   \n",
       "1                  4.000        153000                 360        58   \n",
       "2                  3.625        114000                 360        54   \n",
       "3                  3.875        150000                 360        56   \n",
       "4                  4.250         40000                 360        59   \n",
       "\n",
       "   Original Loan to Value Ratio (LTV)  Number of Borrowers  \\\n",
       "0                                  74                    1   \n",
       "1                                  95                    2   \n",
       "2                                  95                    2   \n",
       "3                                  70                    2   \n",
       "4                                  24                    2   \n",
       "\n",
       "   Debt-To-Income (DTI)  First Time Home Buyer Indicator  Modification Flag  \\\n",
       "0                    31                                0                  0   \n",
       "1                    17                                0                  0   \n",
       "2                    37                                1                  0   \n",
       "3                    16                                0                  0   \n",
       "4                    36                                0                  0   \n",
       "\n",
       "   Home Ready Program Indicator  High Balance Loan Indicator  \\\n",
       "0                             0                            0   \n",
       "1                             0                            0   \n",
       "2                             0                            0   \n",
       "3                             0                            0   \n",
       "4                             0                            0   \n",
       "\n",
       "   Minimum Credit Score  Foreclosed  \n",
       "0                   814           0  \n",
       "1                   788           0  \n",
       "2                   745           0  \n",
       "3                   810           0  \n",
       "4                   755           0  "
      ]
     },
     "execution_count": 3,
     "metadata": {},
     "output_type": "execute_result"
    }
   ],
   "source": [
    "df.head()"
   ]
  },
  {
   "cell_type": "markdown",
   "id": "a240352e",
   "metadata": {
    "heading_collapsed": true,
    "hidden": true
   },
   "source": [
    "## Current distribution for our imbalanced target"
   ]
  },
  {
   "cell_type": "code",
   "execution_count": 8,
   "id": "2aa0ae90",
   "metadata": {
    "deletable": false,
    "editable": false,
    "hidden": true,
    "run_control": {
     "frozen": true
    }
   },
   "outputs": [
    {
     "name": "stdout",
     "output_type": "stream",
     "text": [
      "class 0: 8255841\n",
      "class 1: 22816\n"
     ]
    }
   ],
   "source": [
    "# class count\n",
    "class_count_0, class_count_1 = df['Foreclosed'].value_counts()\n",
    "\n",
    "# Separate class\n",
    "class_0 = len(df[df['Foreclosed'] == 0])\n",
    "class_1 = len(df[df['Foreclosed'] == 1])\n",
    "\n",
    "print('class 0:', class_0)\n",
    "print('class 1:', class_1)"
   ]
  },
  {
   "cell_type": "markdown",
   "id": "33849952",
   "metadata": {
    "heading_collapsed": true,
    "hidden": true
   },
   "source": [
    "## Defining our data for train_test_split on imbalanced data"
   ]
  },
  {
   "cell_type": "code",
   "execution_count": 5,
   "id": "5e900f03",
   "metadata": {
    "deletable": false,
    "editable": false,
    "hidden": true,
    "run_control": {
     "frozen": true
    }
   },
   "outputs": [],
   "source": [
    "# # define dataset\n",
    "X = df[['Current Interest Rate', 'Original UPB', 'Original Loan Term',\n",
    "       'Loan Age', 'Original Loan to Value Ratio (LTV)', 'Number of Borrowers',\n",
    "       'Debt-To-Income (DTI)', 'First Time Home Buyer Indicator',\n",
    "       'Modification Flag', 'Home Ready Program Indicator',\n",
    "       'High Balance Loan Indicator', 'Minimum Credit Score']\n",
    "]\n",
    "y = df['Foreclosed']"
   ]
  },
  {
   "cell_type": "code",
   "execution_count": 10,
   "id": "776cbc76",
   "metadata": {
    "deletable": false,
    "editable": false,
    "hidden": true,
    "run_control": {
     "frozen": true
    },
    "scrolled": false
   },
   "outputs": [
    {
     "name": "stdout",
     "output_type": "stream",
     "text": [
      "Loans that are not forclosed: 8255841\n",
      "Loans that are forclosed:     22816\n"
     ]
    },
    {
     "data": {
      "image/png": "[encoded data removed]",
      "text/plain": [
       "<Figure size 432x288 with 1 Axes>"
      ]
     },
     "metadata": {
      "needs_background": "light"
     },
     "output_type": "display_data"
    },
    {
     "name": "stdout",
     "output_type": "stream",
     "text": [
      "Zero: 8255841 \n",
      "One: 22816\n"
     ]
    },
    {
     "data": {
      "text/plain": [
       "<Figure size 432x288 with 0 Axes>"
      ]
     },
     "metadata": {},
     "output_type": "display_data"
    }
   ],
   "source": [
    "print(f'Loans that are not forclosed: {class_0}')\n",
    "print(f'Loans that are forclosed:     {class_1}')\n",
    "\n",
    "plt.bar(['Not Foreclosed', 'Foreclosed'], [class_0, class_1])\n",
    "plt.title('Distribution Between Target Feature')\n",
    "plt.xlabel('Target Class Label')\n",
    "plt.ylabel('Count of loans')\n",
    "plt.grid(False)\n",
    "plt.show()\n",
    "print(f'Zero: {class_0} \\nOne: {class_1}')\n",
    "plt.savefig('../Notebook_images/Target_Feature_Distrbution')"
   ]
  },
  {
   "cell_type": "code",
   "execution_count": 45,
   "id": "677a0066",
   "metadata": {
    "deletable": false,
    "editable": false,
    "hidden": true,
    "run_control": {
     "frozen": true
    }
   },
   "outputs": [
    {
     "data": {
      "text/plain": [
       "0.2756002573847425"
      ]
     },
     "execution_count": 45,
     "metadata": {},
     "output_type": "execute_result"
    }
   ],
   "source": [
    "100 * (22816/float(df.shape[0]))"
   ]
  },
  {
   "cell_type": "code",
   "execution_count": 46,
   "id": "a6287979",
   "metadata": {
    "deletable": false,
    "editable": false,
    "hidden": true,
    "run_control": {
     "frozen": true
    },
    "scrolled": true
   },
   "outputs": [
    {
     "data": {
      "text/plain": [
       "99.72439974261526"
      ]
     },
     "execution_count": 46,
     "metadata": {},
     "output_type": "execute_result"
    }
   ],
   "source": [
    "100 * (8255841/float(df.shape[0]))"
   ]
  },
  {
   "cell_type": "markdown",
   "id": "8e7b5fbd",
   "metadata": {
    "heading_collapsed": true,
    "hidden": true
   },
   "source": [
    "## Scatter plot of target feature"
   ]
  },
  {
   "cell_type": "code",
   "execution_count": 16,
   "id": "f4a1c7fc",
   "metadata": {
    "deletable": false,
    "editable": false,
    "hidden": true,
    "run_control": {
     "frozen": true
    }
   },
   "outputs": [
    {
     "data": {
      "image/png": "[encoded data removed]",
      "text/plain": [
       "<Figure size 432x288 with 1 Axes>"
      ]
     },
     "metadata": {
      "needs_background": "light"
     },
     "output_type": "display_data"
    }
   ],
   "source": [
    "# scatter plot of examples by class label\n",
    "from matplotlib.font_manager import FontProperties\n",
    "\n",
    "fontP = FontProperties()\n",
    "fontP.set_size('xx-small')\n",
    "\n",
    "counter = Counter(y)\n",
    "for label, _ in counter.items():\n",
    "    row_ix = where(y == label)[0]\n",
    "    plt.scatter(X.iloc[row_ix, 0], X.iloc[row_ix, 1])\n",
    "plt.title('Scatterplot of Target Feature')\n",
    "plt.legend([\"Not Defaulted\",\"Defaulted\"],\n",
    "           bbox_to_anchor = (1.05, 0.6))\n",
    "\n",
    "plt.savefig('../Notebook_images/Distribution.png')\n",
    "plt.show();"
   ]
  },
  {
   "cell_type": "markdown",
   "id": "81bbba2e",
   "metadata": {
    "heading_collapsed": true
   },
   "source": [
    "# Over and Under Sampling"
   ]
  },
  {
   "cell_type": "code",
   "execution_count": 17,
   "id": "fdd771f9",
   "metadata": {
    "hidden": true
   },
   "outputs": [
    {
     "name": "stdout",
     "output_type": "stream",
     "text": [
      "Counter({0: 8255841, 1: 22816})\n",
      "Counter({0: 45632, 1: 22816})\n",
      "Counter({0: 45632, 1: 31942})\n"
     ]
    }
   ],
   "source": [
    "# example of random oversampling to balance the class distribution\n",
    "# Combining Random Oversampling and Undersampling\n",
    "\n",
    "# summarize class distribution\n",
    "print(Counter(y))\n",
    "\n",
    "# define undersampling strategy\n",
    "under = rus(sampling_strategy=0.5)\n",
    "# fit and apply the transform\n",
    "X_under, y_under = under.fit_resample(X, y)\n",
    "# summarize class distribution\n",
    "print(Counter(y_under))\n",
    "\n",
    "# define oversampling strategy\n",
    "over = SMOTE(sampling_strategy=0.7)\n",
    "# fit and apply the transform\n",
    "X_over, y_over = over.fit_resample(X_under, y_under)\n",
    "# summarize class distribution\n",
    "print(Counter(y_over))\n"
   ]
  },
  {
   "cell_type": "markdown",
   "id": "48b54eb7",
   "metadata": {
    "hidden": true
   },
   "source": [
    "### under sampling train_test_split"
   ]
  },
  {
   "cell_type": "code",
   "execution_count": 18,
   "id": "eec07aed",
   "metadata": {
    "hidden": true
   },
   "outputs": [],
   "source": [
    "X_train_u, X_test_u, y_train_u, y_test_u = train_test_split(X_under, y_under, test_size=0.33, random_state=42)"
   ]
  },
  {
   "cell_type": "markdown",
   "id": "2466a2f6",
   "metadata": {
    "hidden": true
   },
   "source": [
    "### over sampling train_test_split"
   ]
  },
  {
   "cell_type": "code",
   "execution_count": 19,
   "id": "8228a38c",
   "metadata": {
    "hidden": true
   },
   "outputs": [],
   "source": [
    "X_train_o, X_test_o, y_train_o, y_test_o = train_test_split(X_over, y_over, test_size=0.33, random_state=42)"
   ]
  },
  {
   "cell_type": "markdown",
   "id": "6ef5bee4",
   "metadata": {
    "heading_collapsed": true
   },
   "source": [
    "# Under Sampling Data Logistic Regression"
   ]
  },
  {
   "cell_type": "code",
   "execution_count": 20,
   "id": "31ab23f4",
   "metadata": {
    "hidden": true
   },
   "outputs": [],
   "source": [
    "clf = LogisticRegression().fit(X_train_u, y_train_u)\n",
    "y_test_pred = clf.predict(X_test_u)"
   ]
  },
  {
   "cell_type": "code",
   "execution_count": 21,
   "id": "36f2d7f5",
   "metadata": {
    "hidden": true
   },
   "outputs": [
    {
     "data": {
      "text/plain": [
       "0    30585\n",
       "1    15275\n",
       "Name: Foreclosed, dtype: int64"
      ]
     },
     "execution_count": 21,
     "metadata": {},
     "output_type": "execute_result"
    }
   ],
   "source": [
    "y_train_u.value_counts()"
   ]
  },
  {
   "cell_type": "code",
   "execution_count": 72,
   "id": "2cc65341",
   "metadata": {
    "hidden": true
   },
   "outputs": [
    {
     "name": "stdout",
     "output_type": "stream",
     "text": [
      "              precision    recall  f1-score   support\n",
      "\n",
      "           0       0.74      0.88      0.81     15047\n",
      "           1       0.62      0.39      0.48      7541\n",
      "\n",
      "    accuracy                           0.72     22588\n",
      "   macro avg       0.68      0.64      0.64     22588\n",
      "weighted avg       0.70      0.72      0.70     22588\n",
      "\n",
      "True Negatives:  13254\n",
      "False Positives:  1793\n",
      "False Negatives:  4586\n",
      "True Positives:  2955\n",
      "\n",
      "Accuracy 71.76%:\n"
     ]
    },
    {
     "data": {
      "text/html": [
       "<style  type=\"text/css\" >\n",
       "#T_50997_row0_col0,#T_50997_row1_col1{\n",
       "            background-color:  #08306b;\n",
       "            color:  #f1f1f1;\n",
       "        }#T_50997_row0_col1,#T_50997_row1_col0{\n",
       "            background-color:  #f7fbff;\n",
       "            color:  #000000;\n",
       "        }</style><table id=\"T_50997_\" ><thead>    <tr>        <th class=\"blank level0\" ></th>        <th class=\"col_heading level0 col0\" >Predicted False</th>        <th class=\"col_heading level0 col1\" >Predicted True</th>    </tr></thead><tbody>\n",
       "                <tr>\n",
       "                        <th id=\"T_50997_level0_row0\" class=\"row_heading level0 row0\" >Actual False</th>\n",
       "                        <td id=\"T_50997_row0_col0\" class=\"data row0 col0\" >13254</td>\n",
       "                        <td id=\"T_50997_row0_col1\" class=\"data row0 col1\" >1793</td>\n",
       "            </tr>\n",
       "            <tr>\n",
       "                        <th id=\"T_50997_level0_row1\" class=\"row_heading level0 row1\" >Actual True</th>\n",
       "                        <td id=\"T_50997_row1_col0\" class=\"data row1 col0\" >4586</td>\n",
       "                        <td id=\"T_50997_row1_col1\" class=\"data row1 col1\" >2955</td>\n",
       "            </tr>\n",
       "    </tbody></table>"
      ],
      "text/plain": [
       "<pandas.io.formats.style.Styler at 0x1e9a8948d90>"
      ]
     },
     "execution_count": 72,
     "metadata": {},
     "output_type": "execute_result"
    }
   ],
   "source": [
    "print(classification_report(y_test_u, y_test_pred))\n",
    "df_matrix=pd.DataFrame(confusion_matrix(y_test_u, y_test_pred), \n",
    "             columns=[\"Predicted False\", \"Predicted True\"], \n",
    "             index=[\"Actual False\", \"Actual True\"])\n",
    "#extracting true_positives, false_positives, true_negatives, false_negatives\n",
    "tn, fp, fn, tp = confusion_matrix(y_test_u, y_test_pred).ravel()\n",
    "print(\"True Negatives: \",tn)\n",
    "print(\"False Positives: \",fp)\n",
    "print(\"False Negatives: \",fn)\n",
    "print(\"True Positives: \",tp)\n",
    "print()\n",
    "#Accuracy\n",
    "Accuracy = (tn+tp)*100/(tp+tn+fp+fn) \n",
    "print(\"Accuracy {:0.2f}%:\".format(Accuracy))\n",
    "\n",
    "df_matrix.style.background_gradient(cmap='Blues')\n"
   ]
  },
  {
   "cell_type": "code",
   "execution_count": 27,
   "id": "d2d26e25",
   "metadata": {
    "deletable": false,
    "editable": false,
    "hidden": true,
    "run_control": {
     "frozen": true
    }
   },
   "outputs": [
    {
     "data": {
      "image/png": "[encoded data removed]",
      "text/plain": [
       "<Figure size 432x288 with 1 Axes>"
      ]
     },
     "metadata": {
      "needs_background": "light"
     },
     "output_type": "display_data"
    }
   ],
   "source": [
    "cm = confusion_matrix(y_test_u, y_test_pred)\n",
    "\n",
    "ax = plt.subplot()\n",
    "sns.set(font_scale=1.25) # Adjust to fit\n",
    "sns.heatmap(cm, annot=True, ax=ax, cmap=\"Blues\", fmt=\"g\", cbar=False);  \n",
    "\n",
    "# Labels, title and ticks\n",
    "label_font = {'size':'18'}  # Adjust to fit\n",
    "ax.set_xlabel('Predicted labels', fontdict=label_font);\n",
    "ax.set_ylabel('Observed labels', fontdict=label_font);\n",
    "\n",
    "title_font = {'size':'21'}  # Adjust to fit\n",
    "ax.set_title('Undersampling for LogR', fontdict=title_font);\n",
    "\n",
    "ax.tick_params(axis='both', which='major', labelrotation=0)  # Adjust to fit\n",
    "ax.xaxis.set_ticklabels(['Foreclosed', 'Not Foreclosed']);\n",
    "ax.yaxis.set_ticklabels(['Foreclosed', 'Not Foreclosed']);\n",
    "plt.savefig('../Notebook_images/UndersamplingLogR')\n",
    "plt.show()"
   ]
  },
  {
   "cell_type": "code",
   "execution_count": 18,
   "id": "a9093e50",
   "metadata": {
    "deletable": false,
    "editable": false,
    "hidden": true,
    "run_control": {
     "frozen": true
    }
   },
   "outputs": [
    {
     "name": "stdout",
     "output_type": "stream",
     "text": [
      "True Negatives:  13294\n",
      "False Positives:  1753\n",
      "False Negatives:  4532\n",
      "True Positives:  3009\n"
     ]
    }
   ],
   "source": [
    "#extracting true_positives, false_positives, true_negatives, false_negatives\n",
    "tn, fp, fn, tp = confusion_matrix(y_test_u, y_test_pred).ravel()\n",
    "print(\"True Negatives: \",tn)\n",
    "print(\"False Positives: \",fp)\n",
    "print(\"False Negatives: \",fn)\n",
    "print(\"True Positives: \",tp)"
   ]
  },
  {
   "cell_type": "code",
   "execution_count": 19,
   "id": "a586a940",
   "metadata": {
    "deletable": false,
    "editable": false,
    "hidden": true,
    "run_control": {
     "frozen": true
    }
   },
   "outputs": [
    {
     "name": "stdout",
     "output_type": "stream",
     "text": [
      "Accuracy 72.18%:\n"
     ]
    }
   ],
   "source": [
    "#Accuracy\n",
    "Accuracy = (tn+tp)*100/(tp+tn+fp+fn) \n",
    "print(\"Accuracy {:0.2f}%:\".format(Accuracy))"
   ]
  },
  {
   "cell_type": "markdown",
   "id": "79fb2dfb",
   "metadata": {
    "heading_collapsed": true
   },
   "source": [
    "# SMOTE Logistic Regression Over Sampling Data"
   ]
  },
  {
   "cell_type": "code",
   "execution_count": 28,
   "id": "c7a1a280",
   "metadata": {
    "hidden": true
   },
   "outputs": [],
   "source": [
    "# import logistic regression model and accuracy_score metric\n",
    "logR = LogisticRegression() "
   ]
  },
  {
   "cell_type": "code",
   "execution_count": 29,
   "id": "12c55f26",
   "metadata": {
    "hidden": true
   },
   "outputs": [
    {
     "data": {
      "text/plain": [
       "LogisticRegression()"
      ]
     },
     "execution_count": 29,
     "metadata": {},
     "output_type": "execute_result"
    }
   ],
   "source": [
    "# Training the model on our training dataset\n",
    "logR.fit(X_train_o, y_train_o)"
   ]
  },
  {
   "cell_type": "code",
   "execution_count": 30,
   "id": "99503ef8",
   "metadata": {
    "hidden": true
   },
   "outputs": [],
   "source": [
    "predictions = logR.predict(X_test_o)"
   ]
  },
  {
   "cell_type": "code",
   "execution_count": 31,
   "id": "ba152d40",
   "metadata": {
    "hidden": true
   },
   "outputs": [
    {
     "name": "stdout",
     "output_type": "stream",
     "text": [
      "              precision    recall  f1-score   support\n",
      "\n",
      "           0       0.71      0.78      0.74     15087\n",
      "           1       0.63      0.55      0.59     10513\n",
      "\n",
      "    accuracy                           0.68     25600\n",
      "   macro avg       0.67      0.66      0.67     25600\n",
      "weighted avg       0.68      0.68      0.68     25600\n",
      "\n"
     ]
    },
    {
     "data": {
      "text/html": [
       "<style  type=\"text/css\" >\n",
       "#T_4607d_row0_col0,#T_4607d_row1_col1{\n",
       "            background-color:  #08306b;\n",
       "            color:  #f1f1f1;\n",
       "        }#T_4607d_row0_col1,#T_4607d_row1_col0{\n",
       "            background-color:  #f7fbff;\n",
       "            color:  #000000;\n",
       "        }</style><table id=\"T_4607d_\" ><thead>    <tr>        <th class=\"blank level0\" ></th>        <th class=\"col_heading level0 col0\" >Predicted False</th>        <th class=\"col_heading level0 col1\" >Predicted True</th>    </tr></thead><tbody>\n",
       "                <tr>\n",
       "                        <th id=\"T_4607d_level0_row0\" class=\"row_heading level0 row0\" >Actual False</th>\n",
       "                        <td id=\"T_4607d_row0_col0\" class=\"data row0 col0\" >11747</td>\n",
       "                        <td id=\"T_4607d_row0_col1\" class=\"data row0 col1\" >3340</td>\n",
       "            </tr>\n",
       "            <tr>\n",
       "                        <th id=\"T_4607d_level0_row1\" class=\"row_heading level0 row1\" >Actual True</th>\n",
       "                        <td id=\"T_4607d_row1_col0\" class=\"data row1 col0\" >4748</td>\n",
       "                        <td id=\"T_4607d_row1_col1\" class=\"data row1 col1\" >5765</td>\n",
       "            </tr>\n",
       "    </tbody></table>"
      ],
      "text/plain": [
       "<pandas.io.formats.style.Styler at 0x1ea297dfb50>"
      ]
     },
     "execution_count": 31,
     "metadata": {},
     "output_type": "execute_result"
    }
   ],
   "source": [
    "print(classification_report(y_test_o, predictions))\n",
    "df_matrix=pd.DataFrame(confusion_matrix(y_test_o, predictions), \n",
    "             columns=[\"Predicted False\", \"Predicted True\"], \n",
    "             index=[\"Actual False\", \"Actual True\"])\n",
    "df_matrix.style.background_gradient(cmap='Blues')"
   ]
  },
  {
   "cell_type": "code",
   "execution_count": 33,
   "id": "9cde3719",
   "metadata": {
    "deletable": false,
    "editable": false,
    "hidden": true,
    "run_control": {
     "frozen": true
    },
    "scrolled": false
   },
   "outputs": [
    {
     "data": {
      "image/png": "[encoded data removed]",
      "text/plain": [
       "<Figure size 432x288 with 1 Axes>"
      ]
     },
     "metadata": {},
     "output_type": "display_data"
    }
   ],
   "source": [
    "cm = confusion_matrix(y_test_o, predictions)\n",
    "\n",
    "ax = plt.subplot()\n",
    "sns.set(font_scale=1.25) # Adjust to fit\n",
    "sns.heatmap(cm, annot=True, ax=ax, cmap=\"Blues_r\", fmt=\"g\", cbar=False);  \n",
    "\n",
    "# Labels, title and ticks\n",
    "label_font = {'size':'18'}  # Adjust to fit\n",
    "ax.set_xlabel('Predicted labels', fontdict=label_font);\n",
    "ax.set_ylabel('Observed labels', fontdict=label_font);\n",
    "\n",
    "title_font = {'size':'21'}  # Adjust to fit\n",
    "ax.set_title('SMOTE Oversample LogR', fontdict=title_font);\n",
    "\n",
    "ax.tick_params(axis='both', which='major', labelrotation=0)  # Adjust to fit\n",
    "ax.xaxis.set_ticklabels(['Foreclosed', 'Not Foreclosed']);\n",
    "ax.yaxis.set_ticklabels(['Foreclosed', 'Not Foreclosed']);\n",
    "plt.savefig('../Notebook_images/SMOTE_Oversample_LogR')\n",
    "plt.show()"
   ]
  },
  {
   "cell_type": "code",
   "execution_count": 26,
   "id": "66a9adf5",
   "metadata": {
    "deletable": false,
    "editable": false,
    "hidden": true,
    "run_control": {
     "frozen": true
    }
   },
   "outputs": [
    {
     "data": {
      "image/png": "[encoded data removed]",
      "text/plain": [
       "<Figure size 432x288 with 1 Axes>"
      ]
     },
     "metadata": {},
     "output_type": "display_data"
    }
   ],
   "source": [
    "# Compute confusion matrix\n",
    "cnf_matrix = confusion_matrix(y_test_o, predictions)\n",
    "np.set_printoptions(precision=2)\n",
    "\n",
    "# Plot non-normalized confusion matrix\n",
    "plt.figure()\n",
    "plt.rcParams[\"axes.grid\"] = False\n",
    "plot_confusion_matrix(cnf_matrix, classes=['Not Foreclosed','Foreclosed'],\n",
    "                      title='SMOTE Oversample LogR')"
   ]
  },
  {
   "cell_type": "code",
   "execution_count": 34,
   "id": "c55272bb",
   "metadata": {
    "deletable": false,
    "editable": false,
    "hidden": true,
    "run_control": {
     "frozen": true
    }
   },
   "outputs": [],
   "source": [
    "# predicting probabilities for the test data\n",
    "prob_test_set = logR.predict_proba(X_test_o)#, predictions"
   ]
  },
  {
   "cell_type": "code",
   "execution_count": 35,
   "id": "2643b1d2",
   "metadata": {
    "deletable": false,
    "editable": false,
    "hidden": true,
    "run_control": {
     "frozen": true
    }
   },
   "outputs": [
    {
     "name": "stdout",
     "output_type": "stream",
     "text": [
      "Area Under ROC Curve: 74.36%\n"
     ]
    }
   ],
   "source": [
    "# Computing Area Under the ROC Curve from prediction scores.\n",
    "\n",
    "AUC_ROC = roc_auc_score(y_test_o, prob_test_set[:,1]) #<shift + tab> to learn more\n",
    "#prob_test_set[:,1] will gives the probabilities for all 1 ([0.5 to 1.0]) and 0 ([0 to 0.49])\n",
    "\n",
    "print('Area Under ROC Curve: %.2f%%' % ((AUC_ROC)*100))"
   ]
  },
  {
   "cell_type": "code",
   "execution_count": 36,
   "id": "bccb5279",
   "metadata": {
    "deletable": false,
    "editable": false,
    "hidden": true,
    "run_control": {
     "frozen": true
    }
   },
   "outputs": [],
   "source": [
    "# Computing Receiver operating characteristic (ROC)\n",
    "fpr, tpr, thresholds = roc_curve(y_test_o, prob_test_set[:,1])"
   ]
  },
  {
   "cell_type": "code",
   "execution_count": 37,
   "id": "c56ecfd2",
   "metadata": {
    "deletable": false,
    "editable": false,
    "hidden": true,
    "run_control": {
     "frozen": true
    }
   },
   "outputs": [
    {
     "data": {
      "image/png": "[encoded data removed]",
      "text/plain": [
       "<Figure size 1296x432 with 1 Axes>"
      ]
     },
     "metadata": {},
     "output_type": "display_data"
    }
   ],
   "source": [
    "# Let's get the plot now!\n",
    "# plot no skill - A line for random guess\n",
    "plt.figure(figsize=(18,6))\n",
    "plt.plot([0, 1], [0, 1], linestyle='--', label = 'Random guess' )\n",
    "\n",
    "# plot the roc curve for the model\n",
    "plt.plot(fpr, tpr, marker='.', label = 'ROC - Area Under The Curve: %.3f' % AUC_ROC)\n",
    "\n",
    "# let's set the limits (0,1)\n",
    "plt.xlim([0, 1])\n",
    "plt.ylim([0, 1])\n",
    "\n",
    "# good to put title and labels\n",
    "plt.title('ROC for Fannie Mae data using LogR', fontsize=16)\n",
    "plt.ylabel('True Positive Rate', fontsize=14)\n",
    "plt.xlabel('False Positive Rate', fontsize=14)\n",
    "plt.grid(False)\n",
    "# putting the legends  \n",
    "plt.legend();"
   ]
  },
  {
   "cell_type": "markdown",
   "id": "3a57686f",
   "metadata": {
    "heading_collapsed": true
   },
   "source": [
    "# Decision Tree Using Under Sampling Data\n",
    "\n",
    "> example of random oversampling to balance the class distribution\n",
    "> Combining Random Oversampling and Undersampling\n",
    "> \n",
    "> define undersampling strategy\n",
    "> under = rus(sampling_strategy=0.5)\n",
    ">\n",
    "> fit and apply the transform\n",
    "> X_under, y_under = under.fit_resample(X, y)\n",
    "\n"
   ]
  },
  {
   "cell_type": "markdown",
   "id": "cf023316",
   "metadata": {
    "hidden": true
   },
   "source": [
    "**split the data and use the undersampling we did using SMOTE**"
   ]
  },
  {
   "cell_type": "code",
   "execution_count": 31,
   "id": "e200bc2f",
   "metadata": {
    "deletable": false,
    "editable": false,
    "hidden": true,
    "run_control": {
     "frozen": true
    }
   },
   "outputs": [],
   "source": [
    "#Using the train_test_split to create train and test sets.\n",
    "X_train, X_test, y_train, y_test = train_test_split(X_under, y_under, random_state = 42, test_size = 0.25)"
   ]
  },
  {
   "cell_type": "code",
   "execution_count": 32,
   "id": "868b3c52",
   "metadata": {
    "deletable": false,
    "editable": false,
    "hidden": true,
    "run_control": {
     "frozen": true
    }
   },
   "outputs": [],
   "source": [
    "#Importing the Decision tree classifier from the sklearn library.\n",
    "from sklearn.tree import DecisionTreeClassifier\n",
    "clf_u = DecisionTreeClassifier(criterion = 'entropy')"
   ]
  },
  {
   "cell_type": "markdown",
   "id": "65829cab",
   "metadata": {
    "hidden": true
   },
   "source": [
    "**we will fit the classifier on the train attributes and labels.**"
   ]
  },
  {
   "cell_type": "code",
   "execution_count": 33,
   "id": "b8dec6c0",
   "metadata": {
    "deletable": false,
    "editable": false,
    "hidden": true,
    "run_control": {
     "frozen": true
    }
   },
   "outputs": [
    {
     "data": {
      "text/plain": [
       "DecisionTreeClassifier(criterion='entropy')"
      ]
     },
     "execution_count": 33,
     "metadata": {},
     "output_type": "execute_result"
    }
   ],
   "source": [
    "#Training the decision tree classifier. \n",
    "clf_u.fit(X_train, y_train)"
   ]
  },
  {
   "cell_type": "markdown",
   "id": "99a7a7fb",
   "metadata": {
    "hidden": true
   },
   "source": [
    "**we will use the trained classifier/ model to predict the labels of the test attributes.**"
   ]
  },
  {
   "cell_type": "code",
   "execution_count": 34,
   "id": "8a4cad71",
   "metadata": {
    "deletable": false,
    "editable": false,
    "hidden": true,
    "run_control": {
     "frozen": true
    }
   },
   "outputs": [],
   "source": [
    "#Predicting labels on the test set.\n",
    "y_pred =  clf_u.predict(X_test)"
   ]
  },
  {
   "cell_type": "markdown",
   "id": "a8bcdbc7",
   "metadata": {
    "hidden": true
   },
   "source": [
    "**We will now evaluate the predicted classes using some metrics. For this case, we will use 'accuracy_score' to calculate the accuracy of the predicted labels**"
   ]
  },
  {
   "cell_type": "code",
   "execution_count": 69,
   "id": "e8460140",
   "metadata": {
    "hidden": true
   },
   "outputs": [
    {
     "name": "stdout",
     "output_type": "stream",
     "text": [
      "Classification report:\n",
      "              precision    recall  f1-score   support\n",
      "\n",
      "           0       0.82      0.78      0.80     12006\n",
      "           1       0.54      0.61      0.57      5106\n",
      "\n",
      "    accuracy                           0.73     17112\n",
      "   macro avg       0.68      0.70      0.69     17112\n",
      "weighted avg       0.74      0.73      0.73     17112\n",
      "\n",
      "Accracy: 73.01%\n",
      "\n",
      "Confusion matrix:\n",
      "[[9386 1998]\n",
      " [2620 3108]]\n"
     ]
    }
   ],
   "source": [
    "XTrain, XTest, YTrain, YTest = train_test_split(X_under, y_under, random_state=42)\n",
    "dtmodel = DecisionTreeClassifier(criterion='entropy', min_samples_split=100).fit(XTrain,YTrain)\n",
    "YPred = dtmodel.predict(XTest)\n",
    "\n",
    "accuracy = accuracy_score(YTest,YPred)\n",
    "report = classification_report(YPred, YTest)\n",
    "cm = confusion_matrix(YTest, YPred)\n",
    "\n",
    "print(\"Classification report:\")\n",
    "print(report)\n",
    "print('Accracy: %.2f%%' % (accuracy_score(YTest, YPred)*100))\n",
    "print()\n",
    "print(\"Confusion matrix:\")\n",
    "print(cm)\n"
   ]
  },
  {
   "cell_type": "code",
   "execution_count": 35,
   "id": "7dfc5225",
   "metadata": {
    "deletable": false,
    "editable": false,
    "hidden": true,
    "run_control": {
     "frozen": true
    }
   },
   "outputs": [
    {
     "name": "stdout",
     "output_type": "stream",
     "text": [
      "Accuracy Score on train data: 0.67%\n",
      "Accuracy Score on test data:  0.50%\n"
     ]
    }
   ],
   "source": [
    "print('Accuracy Score on train data: %.2f%%' % accuracy_score(y_true=y_train, y_pred=clf_u.predict(X_train)* 100))\n",
    "print('Accuracy Score on test data:  %.2f%%' % accuracy_score(y_true=y_test, y_pred=(y_pred)*100))"
   ]
  },
  {
   "cell_type": "markdown",
   "id": "4ddcf219",
   "metadata": {
    "hidden": true
   },
   "source": [
    "**tune the parameters of the decision tree to increase its accuracy.**"
   ]
  },
  {
   "cell_type": "code",
   "execution_count": 36,
   "id": "390199c7",
   "metadata": {
    "deletable": false,
    "editable": false,
    "hidden": true,
    "run_control": {
     "frozen": true
    }
   },
   "outputs": [
    {
     "name": "stdout",
     "output_type": "stream",
     "text": [
      "Accuracy Score on train data:    0.59%\n",
      "Accuracy Score on the test data: 0.54%\n"
     ]
    }
   ],
   "source": [
    "clf_u_hyper = DecisionTreeClassifier(criterion='entropy', min_samples_split=50)\n",
    "clf_u_hyper.fit(X_train, y_train)\n",
    "\n",
    "print('Accuracy Score on train data:    %.2f%%' % accuracy_score(y_true=y_train, y_pred=clf_u_hyper.predict(X_train) * 100))\n",
    "print('Accuracy Score on the test data: %.2f%%' % accuracy_score(y_true=y_test, y_pred=clf_u_hyper.predict(X_test)* 100))"
   ]
  },
  {
   "cell_type": "markdown",
   "id": "763f7ee2",
   "metadata": {
    "hidden": true
   },
   "source": [
    "## Saving Model"
   ]
  },
  {
   "cell_type": "code",
   "execution_count": 37,
   "id": "8bb16c74",
   "metadata": {
    "deletable": false,
    "editable": false,
    "hidden": true,
    "run_control": {
     "frozen": true
    }
   },
   "outputs": [],
   "source": [
    "# save the model to disk\n",
    "filename = '../Models/DTree_Hyper_Fitted_undersampling.sav'\n",
    "pickle.dump(clf_u_hyper, open(filename, 'wb'))"
   ]
  },
  {
   "cell_type": "markdown",
   "id": "1b760ab1",
   "metadata": {
    "heading_collapsed": true
   },
   "source": [
    "# Decision Tree Using Over Sampling Data\n",
    "\n",
    "> example of random oversampling to balance the class distribution\n",
    "> Combining Random Oversampling and Undersampling\n",
    "> \n",
    "> define oversampling strategy\n",
    "> over = SMOTE(sampling_strategy=0.7)\n",
    ">\n",
    "> fit and apply the transform\n",
    "> X_over, y_over = over.fit_resample(X_under, y_under)\n"
   ]
  },
  {
   "cell_type": "code",
   "execution_count": 38,
   "id": "8900214d",
   "metadata": {
    "deletable": false,
    "editable": false,
    "hidden": true,
    "run_control": {
     "frozen": true
    }
   },
   "outputs": [],
   "source": [
    "#Using the train_test_split to create train and test sets.\n",
    "X_train, X_test, y_train, y_test = train_test_split(X_over, y_over, random_state = 47, test_size = 0.25)"
   ]
  },
  {
   "cell_type": "code",
   "execution_count": 39,
   "id": "48fd8009",
   "metadata": {
    "deletable": false,
    "editable": false,
    "hidden": true,
    "run_control": {
     "frozen": true
    }
   },
   "outputs": [],
   "source": [
    "clf_o = DecisionTreeClassifier(criterion = 'entropy')"
   ]
  },
  {
   "cell_type": "code",
   "execution_count": 40,
   "id": "b6425876",
   "metadata": {
    "deletable": false,
    "editable": false,
    "hidden": true,
    "run_control": {
     "frozen": true
    }
   },
   "outputs": [
    {
     "data": {
      "text/plain": [
       "DecisionTreeClassifier(criterion='entropy')"
      ]
     },
     "execution_count": 40,
     "metadata": {},
     "output_type": "execute_result"
    }
   ],
   "source": [
    "#Training the decision tree classifier. \n",
    "clf_o.fit(X_train, y_train)"
   ]
  },
  {
   "cell_type": "code",
   "execution_count": 41,
   "id": "3f47168e",
   "metadata": {
    "deletable": false,
    "editable": false,
    "hidden": true,
    "run_control": {
     "frozen": true
    }
   },
   "outputs": [],
   "source": [
    "#Predicting labels on the test set.\n",
    "y_pred =  clf_o.predict(X_test)"
   ]
  },
  {
   "cell_type": "code",
   "execution_count": 42,
   "id": "34a55e48",
   "metadata": {
    "deletable": false,
    "editable": false,
    "hidden": true,
    "run_control": {
     "frozen": true
    }
   },
   "outputs": [
    {
     "name": "stdout",
     "output_type": "stream",
     "text": [
      "Accuracy Score on train data:    0.59%\n",
      "Accuracy Score on the test data: 0.43%\n"
     ]
    }
   ],
   "source": [
    "print('Accuracy Score on train data:    %.2f%%' % accuracy_score(y_true=y_train, y_pred=clf_o.predict(X_train) * 100))\n",
    "print('Accuracy Score on the test data: %.2f%%' % accuracy_score(y_true=y_test, y_pred= (y_pred)* 100))"
   ]
  },
  {
   "cell_type": "markdown",
   "id": "3a931d12",
   "metadata": {
    "hidden": true
   },
   "source": [
    "**tune the parameters of the decision tree to increase its accuracy.**"
   ]
  },
  {
   "cell_type": "code",
   "execution_count": 43,
   "id": "d2c99ad2",
   "metadata": {
    "deletable": false,
    "editable": false,
    "hidden": true,
    "run_control": {
     "frozen": true
    },
    "scrolled": true
   },
   "outputs": [
    {
     "name": "stdout",
     "output_type": "stream",
     "text": [
      "Accuracy Score on train data:    0.51%\n",
      "Accuracy Score on the test data: 0.46%\n"
     ]
    }
   ],
   "source": [
    "clf_o_hyper = DecisionTreeClassifier(criterion='entropy', min_samples_split=50)\n",
    "clf_o_hyper.fit(X_train, y_train)\n",
    "# print('Accuracy Score on train data: %.2f%%' % accuracy_score(y_true=y_train, y_pred = clf_o_hyper.predict(X_train)))\n",
    "# print('Accuracy Score on the test data: %.2f%%' % accuracy_score(y_true=y_test, y_pred = clf_o_hyper.predict(X_test)))\n",
    "\n",
    "print('Accuracy Score on train data:    %.2f%%' % accuracy_score(y_true=y_train, y_pred = clf_o_hyper.predict(X_train) * 100))\n",
    "print('Accuracy Score on the test data: %.2f%%' %  accuracy_score(y_true=y_test, y_pred = clf_o_hyper.predict(X_test)* 100))"
   ]
  },
  {
   "cell_type": "code",
   "execution_count": 61,
   "id": "5fe557ea",
   "metadata": {
    "deletable": false,
    "editable": false,
    "hidden": true,
    "run_control": {
     "frozen": true
    }
   },
   "outputs": [
    {
     "name": "stdout",
     "output_type": "stream",
     "text": [
      "Classification report:\n",
      "Accuracy:  0.7135196452511086\n",
      "              precision    recall  f1-score   support\n",
      "\n",
      "           0       0.77      0.75      0.76     11683\n",
      "           1       0.64      0.66      0.65      7711\n",
      "\n",
      "    accuracy                           0.71     19394\n",
      "   macro avg       0.70      0.70      0.70     19394\n",
      "weighted avg       0.72      0.71      0.71     19394\n",
      "\n",
      "Confusion matrix:\n",
      "[[8782 2655]\n",
      " [2901 5056]]\n"
     ]
    }
   ],
   "source": [
    "XTrain, XTest, YTrain, YTest = train_test_split(X_over, y_over, random_state=42)\n",
    "dtmodel = DecisionTreeClassifier(criterion='entropy', min_samples_split=50).fit(XTrain,YTrain)\n",
    "YPred = dtmodel.predict(XTest)\n",
    "\n",
    "accuracy = accuracy_score(YTest,YPred)\n",
    "report = classification_report(YPred, YTest)\n",
    "cm = confusion_matrix(YTest, YPred)\n",
    "\n",
    "print(\"Classification report:\")\n",
    "print(\"Accuracy: \", accuracy)\n",
    "print(report)\n",
    "print(\"Confusion matrix:\")\n",
    "print(cm)\n"
   ]
  },
  {
   "cell_type": "code",
   "execution_count": 44,
   "id": "329116a9",
   "metadata": {
    "deletable": false,
    "editable": false,
    "hidden": true,
    "run_control": {
     "frozen": true
    }
   },
   "outputs": [],
   "source": [
    "# save the model to disk\n",
    "filename = 'DTree_Hyper_Fitted_oversampling.sav'\n",
    "pickle.dump(clf_o_hyper, open(filename, 'wb'))"
   ]
  },
  {
   "cell_type": "markdown",
   "id": "65935e5d",
   "metadata": {
    "heading_collapsed": true
   },
   "source": [
    "# Random Forest with Under Sampling"
   ]
  },
  {
   "cell_type": "code",
   "execution_count": 38,
   "id": "f307ba70",
   "metadata": {
    "hidden": true
   },
   "outputs": [
    {
     "data": {
      "text/plain": [
       "RandomForestClassifier(n_jobs=-100, random_state=42)"
      ]
     },
     "execution_count": 38,
     "metadata": {},
     "output_type": "execute_result"
    }
   ],
   "source": [
    "forest_u = RandomForestClassifier(n_estimators=100, random_state=42, n_jobs=-100)\n",
    "forest_u.fit(X_train_u, y_train_u)"
   ]
  },
  {
   "cell_type": "code",
   "execution_count": 39,
   "id": "3fafa1d1",
   "metadata": {
    "hidden": true
   },
   "outputs": [
    {
     "name": "stdout",
     "output_type": "stream",
     "text": [
      "Accracy: 74.52%\n"
     ]
    }
   ],
   "source": [
    "y_pred_rf_under = forest_u.predict(X_test_u)\n",
    "print('Accracy: %.2f%%' % (accuracy_score(y_test_u, y_pred_rf_under)*100))"
   ]
  },
  {
   "cell_type": "markdown",
   "id": "9c4d0a65",
   "metadata": {
    "hidden": true
   },
   "source": [
    "**Classification Report**"
   ]
  },
  {
   "cell_type": "code",
   "execution_count": 64,
   "id": "86a83496",
   "metadata": {
    "hidden": true
   },
   "outputs": [
    {
     "name": "stdout",
     "output_type": "stream",
     "text": [
      "              precision    recall  f1-score   support\n",
      "\n",
      "           0       0.78      0.85      0.82     15047\n",
      "           1       0.64      0.53      0.58      7541\n",
      "\n",
      "    accuracy                           0.75     22588\n",
      "   macro avg       0.71      0.69      0.70     22588\n",
      "weighted avg       0.74      0.75      0.74     22588\n",
      "\n",
      "Accracy: 74.52%\n"
     ]
    },
    {
     "data": {
      "text/html": [
       "<style  type=\"text/css\" >\n",
       "#T_994a7_row0_col0,#T_994a7_row1_col1{\n",
       "            background-color:  #08306b;\n",
       "            color:  #f1f1f1;\n",
       "        }#T_994a7_row0_col1,#T_994a7_row1_col0{\n",
       "            background-color:  #f7fbff;\n",
       "            color:  #000000;\n",
       "        }</style><table id=\"T_994a7_\" ><thead>    <tr>        <th class=\"blank level0\" ></th>        <th class=\"col_heading level0 col0\" >Predicted False</th>        <th class=\"col_heading level0 col1\" >Predicted True</th>    </tr></thead><tbody>\n",
       "                <tr>\n",
       "                        <th id=\"T_994a7_level0_row0\" class=\"row_heading level0 row0\" >Actual False</th>\n",
       "                        <td id=\"T_994a7_row0_col0\" class=\"data row0 col0\" >12817</td>\n",
       "                        <td id=\"T_994a7_row0_col1\" class=\"data row0 col1\" >2230</td>\n",
       "            </tr>\n",
       "            <tr>\n",
       "                        <th id=\"T_994a7_level0_row1\" class=\"row_heading level0 row1\" >Actual True</th>\n",
       "                        <td id=\"T_994a7_row1_col0\" class=\"data row1 col0\" >3525</td>\n",
       "                        <td id=\"T_994a7_row1_col1\" class=\"data row1 col1\" >4016</td>\n",
       "            </tr>\n",
       "    </tbody></table>"
      ],
      "text/plain": [
       "<pandas.io.formats.style.Styler at 0x1ea298c2610>"
      ]
     },
     "execution_count": 64,
     "metadata": {},
     "output_type": "execute_result"
    }
   ],
   "source": [
    "print(classification_report(y_test_u, y_pred_rf_under))\n",
    "df_matrix=pd.DataFrame(confusion_matrix(y_test_u, y_pred_rf_under), \n",
    "             columns=[\"Predicted False\", \"Predicted True\"], \n",
    "             index=[\"Actual False\", \"Actual True\"])\n",
    "print('Accracy: %.2f%%' % (accuracy_score(y_test_u, y_pred_rf_under)*100))\n",
    "df_matrix.style.background_gradient(cmap='Blues')"
   ]
  },
  {
   "cell_type": "code",
   "execution_count": 48,
   "id": "0bed3185",
   "metadata": {
    "deletable": false,
    "editable": false,
    "hidden": true,
    "run_control": {
     "frozen": true
    }
   },
   "outputs": [],
   "source": [
    "# save the model to disk\n",
    "filename = '../Models/RandomForest_undersampling.sav'\n",
    "pickle.dump(y_pred_rf_under, open(filename, 'wb'))"
   ]
  },
  {
   "cell_type": "markdown",
   "id": "0e927104",
   "metadata": {
    "heading_collapsed": true
   },
   "source": [
    "# Random Forest with Over Sampling"
   ]
  },
  {
   "cell_type": "code",
   "execution_count": 41,
   "id": "a7a489db",
   "metadata": {
    "deletable": false,
    "editable": false,
    "hidden": true,
    "run_control": {
     "frozen": true
    }
   },
   "outputs": [
    {
     "data": {
      "text/plain": [
       "RandomForestClassifier(n_jobs=-100, random_state=42)"
      ]
     },
     "execution_count": 41,
     "metadata": {},
     "output_type": "execute_result"
    }
   ],
   "source": [
    "forest_o = RandomForestClassifier(n_estimators=100, random_state=42, n_jobs=-100)\n",
    "forest_o.fit(X_train_o, y_train_o)"
   ]
  },
  {
   "cell_type": "code",
   "execution_count": 42,
   "id": "48e14919",
   "metadata": {
    "hidden": true,
    "scrolled": true
   },
   "outputs": [
    {
     "name": "stdout",
     "output_type": "stream",
     "text": [
      "Accracy: 76.26%\n"
     ]
    }
   ],
   "source": [
    "y_pred_rf_over = forest_o.predict(X_test_o)\n",
    "print('Accracy: %.2f%%' % (accuracy_score(y_test_o, y_pred_rf_over)*100))"
   ]
  },
  {
   "cell_type": "markdown",
   "id": "b936dd11",
   "metadata": {
    "hidden": true
   },
   "source": [
    "**Classification Report**"
   ]
  },
  {
   "cell_type": "code",
   "execution_count": 65,
   "id": "86cdf74d",
   "metadata": {
    "deletable": false,
    "editable": false,
    "hidden": true,
    "run_control": {
     "frozen": true
    }
   },
   "outputs": [
    {
     "name": "stdout",
     "output_type": "stream",
     "text": [
      "              precision    recall  f1-score   support\n",
      "\n",
      "           0       0.79      0.81      0.80     15087\n",
      "           1       0.72      0.69      0.71     10513\n",
      "\n",
      "    accuracy                           0.76     25600\n",
      "   macro avg       0.76      0.75      0.75     25600\n",
      "weighted avg       0.76      0.76      0.76     25600\n",
      "\n",
      "Accracy: 76.26%\n"
     ]
    },
    {
     "data": {
      "text/html": [
       "<style  type=\"text/css\" >\n",
       "#T_ced5c_row0_col0,#T_ced5c_row1_col1{\n",
       "            background-color:  #08306b;\n",
       "            color:  #f1f1f1;\n",
       "        }#T_ced5c_row0_col1,#T_ced5c_row1_col0{\n",
       "            background-color:  #f7fbff;\n",
       "            color:  #000000;\n",
       "        }</style><table id=\"T_ced5c_\" ><thead>    <tr>        <th class=\"blank level0\" ></th>        <th class=\"col_heading level0 col0\" >Predicted False</th>        <th class=\"col_heading level0 col1\" >Predicted True</th>    </tr></thead><tbody>\n",
       "                <tr>\n",
       "                        <th id=\"T_ced5c_level0_row0\" class=\"row_heading level0 row0\" >Actual False</th>\n",
       "                        <td id=\"T_ced5c_row0_col0\" class=\"data row0 col0\" >12257</td>\n",
       "                        <td id=\"T_ced5c_row0_col1\" class=\"data row0 col1\" >2830</td>\n",
       "            </tr>\n",
       "            <tr>\n",
       "                        <th id=\"T_ced5c_level0_row1\" class=\"row_heading level0 row1\" >Actual True</th>\n",
       "                        <td id=\"T_ced5c_row1_col0\" class=\"data row1 col0\" >3247</td>\n",
       "                        <td id=\"T_ced5c_row1_col1\" class=\"data row1 col1\" >7266</td>\n",
       "            </tr>\n",
       "    </tbody></table>"
      ],
      "text/plain": [
       "<pandas.io.formats.style.Styler at 0x1e9a6b17fa0>"
      ]
     },
     "execution_count": 65,
     "metadata": {},
     "output_type": "execute_result"
    }
   ],
   "source": [
    "print(classification_report(y_test_o, y_pred_rf_over))\n",
    "df_matrix=pd.DataFrame(confusion_matrix(y_test_o, y_pred_rf_over), \n",
    "             columns=[\"Predicted False\", \"Predicted True\"], \n",
    "             index=[\"Actual False\", \"Actual True\"])\n",
    "print('Accracy: %.2f%%' % (accuracy_score(y_test_o, y_pred_rf_over)*100))\n",
    "df_matrix.style.background_gradient(cmap='Blues')"
   ]
  },
  {
   "cell_type": "code",
   "execution_count": 52,
   "id": "712957c3",
   "metadata": {
    "deletable": false,
    "editable": false,
    "hidden": true,
    "run_control": {
     "frozen": true
    }
   },
   "outputs": [
    {
     "data": {
      "image/png": "[encoded data removed]",
      "text/plain": [
       "<Figure size 432x288 with 1 Axes>"
      ]
     },
     "metadata": {},
     "output_type": "display_data"
    }
   ],
   "source": [
    "# Compute confusion matrix\n",
    "cnf_matrix = confusion_matrix(y_test_o, y_pred_rf_over)\n",
    "np.set_printoptions(precision=2)\n",
    "\n",
    "# Plot non-normalized confusion matrix\n",
    "plt.figure()\n",
    "plt.rcParams[\"axes.grid\"] = False\n",
    "plot_confusion_matrix(cnf_matrix, classes=['Not Foreclosed','Foreclosed'],\n",
    "                      title='Random Forest Over Sampling')"
   ]
  },
  {
   "cell_type": "code",
   "execution_count": 53,
   "id": "18b5eb7a",
   "metadata": {
    "deletable": false,
    "editable": false,
    "hidden": true,
    "run_control": {
     "frozen": true
    }
   },
   "outputs": [],
   "source": [
    "# save the model to disk\n",
    "filename = '../Models/RandomForest_oversampling.sav'\n",
    "pickle.dump(y_pred_rf_over, open(filename, 'wb'))"
   ]
  },
  {
   "cell_type": "markdown",
   "id": "2938e0c8",
   "metadata": {
    "heading_collapsed": true
   },
   "source": [
    "# XGBoost Under Sampling train_test_split"
   ]
  },
  {
   "cell_type": "code",
   "execution_count": 44,
   "id": "ae0fe37e",
   "metadata": {
    "hidden": true
   },
   "outputs": [],
   "source": [
    "#Using the train_test_split to create train and test sets.\n",
    "X_train_xgb_u, X_test_xgb_u, y_train_xgb_u, y_test_xgb_u = train_test_split(X_under, y_under, random_state = 42, test_size = 0.25)"
   ]
  },
  {
   "cell_type": "code",
   "execution_count": 45,
   "id": "e2100511",
   "metadata": {
    "hidden": true,
    "scrolled": false
   },
   "outputs": [
    {
     "name": "stdout",
     "output_type": "stream",
     "text": [
      "XGBClassifier(base_score=0.5, booster='gbtree', colsample_bylevel=1,\n",
      "              colsample_bynode=1, colsample_bytree=1, eval_metric='mlogloss',\n",
      "              gamma=0, gpu_id=-1, importance_type='gain',\n",
      "              interaction_constraints='', learning_rate=0.300000012,\n",
      "              max_delta_step=0, max_depth=6, min_child_weight=1, missing=nan,\n",
      "              monotone_constraints='()', n_estimators=100, n_jobs=16,\n",
      "              num_parallel_tree=1, random_state=0, reg_alpha=0, reg_lambda=1,\n",
      "              scale_pos_weight=1, subsample=1, tree_method='exact',\n",
      "              validate_parameters=1, verbosity=None)\n",
      "Accuracy: 75.35%\n"
     ]
    }
   ],
   "source": [
    "\n",
    "# fit model on training data\n",
    "model_xgb_under = XGBClassifier(eval_metric='mlogloss')\n",
    "model_xgb_under.fit(X_train_xgb_u, y_train_xgb_u)\n",
    "\n",
    "# make predictions for test data\n",
    "predictions = model_xgb_under.predict(X_test_xgb_u)\n",
    "\n",
    "print(model_xgb_under)\n",
    "\n",
    "# evaluate predictions\n",
    "accuracy = accuracy_score(y_test_xgb_u, predictions)\n",
    "print(\"Accuracy: %.2f%%\" % (accuracy * 100.0))"
   ]
  },
  {
   "cell_type": "code",
   "execution_count": 56,
   "id": "eaeb21c0",
   "metadata": {
    "deletable": false,
    "editable": false,
    "hidden": true,
    "run_control": {
     "frozen": true
    }
   },
   "outputs": [
    {
     "data": {
      "image/png": "[encoded data removed]",
      "text/plain": [
       "<Figure size 432x360 with 1 Axes>"
      ]
     },
     "metadata": {},
     "output_type": "display_data"
    }
   ],
   "source": [
    "# Create a confusion matrix\n",
    "conf_mat = confusion_matrix(y_test_xgb_u, predictions) \n",
    "plt.figure(figsize=(6,5))\n",
    "sns.heatmap(conf_mat, annot=True, fmt='', cbar=False, cmap='Blues' )\n",
    "plt.title('XGBoost with Undersampling')\n",
    "plt.ylabel('True label')\n",
    "plt.xlabel('Predicted label')\n",
    "plt.show()"
   ]
  },
  {
   "cell_type": "code",
   "execution_count": 46,
   "id": "eaf1b2d1",
   "metadata": {
    "hidden": true
   },
   "outputs": [
    {
     "data": {
      "image/png": "[encoded data removed]",
      "text/plain": [
       "<Figure size 432x288 with 1 Axes>"
      ]
     },
     "metadata": {},
     "output_type": "display_data"
    }
   ],
   "source": [
    "cm_xgb_u = confusion_matrix(y_test_xgb_u, predictions)\n",
    "\n",
    "ax = plt.subplot()\n",
    "sns.set(font_scale=1.25) # Adjust to fit\n",
    "sns.heatmap(cm_xgb_u, annot=True, ax=ax, cmap=\"Blues_r\", fmt=\"g\", cbar=False);  \n",
    "\n",
    "# Labels, title and ticks\n",
    "label_font = {'size':'18'}  # Adjust to fit\n",
    "ax.set_xlabel('Predicted labels', fontdict=label_font);\n",
    "ax.set_ylabel('Observed labels', fontdict=label_font);\n",
    "\n",
    "title_font = {'size':'21'}  # Adjust to fit\n",
    "ax.set_title('XGBoost Undersampling', fontdict=title_font);\n",
    "\n",
    "ax.tick_params(axis='both', which='major', labelrotation=0)  # Adjust to fit\n",
    "ax.xaxis.set_ticklabels(['Foreclosed', 'Not Foreclosed']);\n",
    "ax.yaxis.set_ticklabels(['Foreclosed', 'Not Foreclosed']);\n",
    "plt.savefig('../Notebook_images/XGBoost_Oversample')\n",
    "plt.show()"
   ]
  },
  {
   "cell_type": "code",
   "execution_count": 58,
   "id": "337f5a37",
   "metadata": {
    "deletable": false,
    "editable": false,
    "hidden": true,
    "run_control": {
     "frozen": true
    }
   },
   "outputs": [],
   "source": [
    "# save the model to disk\n",
    "filename = '../Models/model_xgb_under.sav'\n",
    "pickle.dump(model_xgb_under, open(filename, 'wb'))"
   ]
  },
  {
   "cell_type": "markdown",
   "id": "08046392",
   "metadata": {
    "heading_collapsed": true,
    "hidden": true
   },
   "source": [
    "## k-fold cross validation evaluation of xgboost model using under sampling"
   ]
  },
  {
   "cell_type": "code",
   "execution_count": 47,
   "id": "dcb6f9c5",
   "metadata": {
    "hidden": true
   },
   "outputs": [
    {
     "name": "stdout",
     "output_type": "stream",
     "text": [
      "XGBClassifier(base_score=None, booster=None, colsample_bylevel=None,\n",
      "              colsample_bynode=None, colsample_bytree=None,\n",
      "              eval_metric='mlogloss', gamma=None, gpu_id=None,\n",
      "              importance_type='gain', interaction_constraints=None,\n",
      "              learning_rate=None, max_delta_step=None, max_depth=None,\n",
      "              min_child_weight=None, missing=nan, monotone_constraints=None,\n",
      "              n_estimators=100, n_jobs=None, num_parallel_tree=None,\n",
      "              random_state=None, reg_alpha=None, reg_lambda=None,\n",
      "              scale_pos_weight=None, subsample=None, tree_method=None,\n",
      "              validate_parameters=None, verbosity=None)\n",
      "Accuracy: 75.27% Standard Deviation: (0.64%)\n"
     ]
    }
   ],
   "source": [
    "# k-fold cross validation evaluation of xgboost model\n",
    "from sklearn.model_selection import KFold\n",
    "from sklearn.model_selection import cross_val_score\n",
    "\n",
    "# CV model\n",
    "model_xgb_kfold_under = XGBClassifier(eval_metric='mlogloss')\n",
    "kfold = KFold(n_splits=10)\n",
    "\n",
    "print(model_xgb_kfold_under)\n",
    "\n",
    "results = cross_val_score(model_xgb_kfold_under, X_train_xgb_u, y_train_xgb_u, cv=kfold)\n",
    "print(\"Accuracy: %.2f%% Standard Deviation: (%.2f%%)\" % (results.mean()*100, results.std()*100))"
   ]
  },
  {
   "cell_type": "code",
   "execution_count": 61,
   "id": "6f55b9f0",
   "metadata": {
    "deletable": false,
    "editable": false,
    "hidden": true,
    "run_control": {
     "frozen": true
    }
   },
   "outputs": [],
   "source": [
    "# save the model to disk\n",
    "filename = '../Models/model_xgb_kfold_under.sav'\n",
    "pickle.dump(model_xgb_kfold_under, open(filename, 'wb'))"
   ]
  },
  {
   "cell_type": "markdown",
   "id": "d1808959",
   "metadata": {
    "heading_collapsed": true
   },
   "source": [
    "# XGBoost Over Sampling train_test_split"
   ]
  },
  {
   "cell_type": "code",
   "execution_count": 48,
   "id": "be9bb4e3",
   "metadata": {
    "hidden": true
   },
   "outputs": [],
   "source": [
    "#Using the train_test_split to create train and test sets.\n",
    "X_train_xgb_o, X_test_xgb_o, y_train_xgb_o, y_test_xgb_o = train_test_split(X_over, y_over, random_state = 42, test_size = 0.25)"
   ]
  },
  {
   "cell_type": "code",
   "execution_count": 50,
   "id": "02b3e673",
   "metadata": {
    "hidden": true
   },
   "outputs": [
    {
     "name": "stdout",
     "output_type": "stream",
     "text": [
      "XGBClassifier(base_score=0.5, booster='gbtree', colsample_bylevel=1,\n",
      "              colsample_bynode=1, colsample_bytree=1, eval_metric='mlogloss',\n",
      "              gamma=0, gpu_id=-1, importance_type='gain',\n",
      "              interaction_constraints='', learning_rate=0.300000012,\n",
      "              max_delta_step=0, max_depth=6, min_child_weight=1, missing=nan,\n",
      "              monotone_constraints='()', n_estimators=100, n_jobs=16,\n",
      "              num_parallel_tree=1, random_state=0, reg_alpha=0, reg_lambda=1,\n",
      "              scale_pos_weight=1, subsample=1, tree_method='exact',\n",
      "              validate_parameters=1, verbosity=None)\n",
      "Accuracy: 76.44%\n"
     ]
    }
   ],
   "source": [
    "# fit model on training data\n",
    "model_xgb_over = XGBClassifier(eval_metric='mlogloss')\n",
    "model_xgb_over.fit(X_train_xgb_o, y_train_xgb_o)\n",
    "\n",
    "# make predictions for test data\n",
    "predictions = model_xgb_under.predict(X_test_xgb_o)\n",
    "\n",
    "print(model_xgb_under)\n",
    "\n",
    "# evaluate predictions\n",
    "accuracy = accuracy_score(y_test_xgb_o, predictions)\n",
    "print(\"Accuracy: %.2f%%\" % (accuracy * 100.0))"
   ]
  },
  {
   "cell_type": "code",
   "execution_count": 51,
   "id": "1199a8e7",
   "metadata": {
    "hidden": true
   },
   "outputs": [
    {
     "name": "stdout",
     "output_type": "stream",
     "text": [
      "Accuracy: 76.44%\n"
     ]
    }
   ],
   "source": [
    "print(\"Accuracy: %.2f%%\" % (accuracy * 100.0))"
   ]
  },
  {
   "cell_type": "code",
   "execution_count": 52,
   "id": "a152f444",
   "metadata": {
    "hidden": true
   },
   "outputs": [
    {
     "name": "stdout",
     "output_type": "stream",
     "text": [
      "              precision    recall  f1-score   support\n",
      "\n",
      "           0       0.77      0.86      0.81     11437\n",
      "           1       0.76      0.62      0.68      7957\n",
      "\n",
      "    accuracy                           0.76     19394\n",
      "   macro avg       0.76      0.74      0.75     19394\n",
      "weighted avg       0.76      0.76      0.76     19394\n",
      "\n"
     ]
    },
    {
     "data": {
      "text/html": [
       "<style  type=\"text/css\" >\n",
       "#T_0309b_row0_col0,#T_0309b_row1_col1{\n",
       "            background-color:  #08306b;\n",
       "            color:  #f1f1f1;\n",
       "        }#T_0309b_row0_col1,#T_0309b_row1_col0{\n",
       "            background-color:  #f7fbff;\n",
       "            color:  #000000;\n",
       "        }</style><table id=\"T_0309b_\" ><thead>    <tr>        <th class=\"blank level0\" ></th>        <th class=\"col_heading level0 col0\" >Predicted False</th>        <th class=\"col_heading level0 col1\" >Predicted True</th>    </tr></thead><tbody>\n",
       "                <tr>\n",
       "                        <th id=\"T_0309b_level0_row0\" class=\"row_heading level0 row0\" >Actual False</th>\n",
       "                        <td id=\"T_0309b_row0_col0\" class=\"data row0 col0\" >9860</td>\n",
       "                        <td id=\"T_0309b_row0_col1\" class=\"data row0 col1\" >1577</td>\n",
       "            </tr>\n",
       "            <tr>\n",
       "                        <th id=\"T_0309b_level0_row1\" class=\"row_heading level0 row1\" >Actual True</th>\n",
       "                        <td id=\"T_0309b_row1_col0\" class=\"data row1 col0\" >2992</td>\n",
       "                        <td id=\"T_0309b_row1_col1\" class=\"data row1 col1\" >4965</td>\n",
       "            </tr>\n",
       "    </tbody></table>"
      ],
      "text/plain": [
       "<pandas.io.formats.style.Styler at 0x1ea298e55e0>"
      ]
     },
     "execution_count": 52,
     "metadata": {},
     "output_type": "execute_result"
    }
   ],
   "source": [
    "print(classification_report(y_test_xgb_o, predictions))\n",
    "df_matrix=pd.DataFrame(confusion_matrix(y_test_xgb_o, predictions), \n",
    "             columns=[\"Predicted False\", \"Predicted True\"], \n",
    "             index=[\"Actual False\", \"Actual True\"])\n",
    "df_matrix.style.background_gradient(cmap='Blues')"
   ]
  },
  {
   "cell_type": "code",
   "execution_count": 57,
   "id": "4b9705c3",
   "metadata": {
    "deletable": false,
    "editable": false,
    "hidden": true,
    "run_control": {
     "frozen": true
    }
   },
   "outputs": [
    {
     "data": {
      "image/png": "[encoded data removed]",
      "text/plain": [
       "<Figure size 432x288 with 1 Axes>"
      ]
     },
     "metadata": {},
     "output_type": "display_data"
    }
   ],
   "source": [
    "cm_xgb_o = confusion_matrix(y_test_xgb_o, predictions)\n",
    "\n",
    "ax = plt.subplot()\n",
    "sns.set(font_scale=1.25) # Adjust to fit\n",
    "sns.heatmap(cm_xgb_o, annot=True, ax=ax, cmap=\"Blues_r\", fmt=\"g\", cbar=False);  \n",
    "\n",
    "# Labels, title and ticks\n",
    "label_font = {'size':'18'}  # Adjust to fit\n",
    "ax.set_xlabel('Predicted labels', fontdict=label_font);\n",
    "ax.set_ylabel('Observed labels', fontdict=label_font);\n",
    "\n",
    "title_font = {'size':'21'}  # Adjust to fit\n",
    "ax.set_title('XGBoost Oversampling', fontdict=title_font);\n",
    "\n",
    "ax.tick_params(axis='both', which='major', labelrotation=0)  # Adjust to fit\n",
    "ax.xaxis.set_ticklabels(['Foreclosed', 'Not Foreclosed']);\n",
    "ax.yaxis.set_ticklabels(['Foreclosed', 'Not Foreclosed']);\n",
    "plt.tight_layout()\n",
    "plt.savefig('../Notebook_images/XGBoost_OversamplingMatrix')\n",
    "plt.show()"
   ]
  },
  {
   "cell_type": "code",
   "execution_count": 67,
   "id": "8dcf2aaf",
   "metadata": {
    "deletable": false,
    "editable": false,
    "hidden": true,
    "run_control": {
     "frozen": true
    }
   },
   "outputs": [],
   "source": [
    "# save the model to disk\n",
    "filename = '../Models/model_xgb_over.sav'\n",
    "pickle.dump(model_xgb_over, open(filename, 'wb'))"
   ]
  },
  {
   "cell_type": "markdown",
   "id": "041e35d3",
   "metadata": {
    "hidden": true
   },
   "source": [
    "## k-fold cross validation evaluation of xgboost model using over sampling"
   ]
  },
  {
   "cell_type": "code",
   "execution_count": 54,
   "id": "50dc8810",
   "metadata": {
    "hidden": true
   },
   "outputs": [
    {
     "name": "stdout",
     "output_type": "stream",
     "text": [
      "XGBClassifier(base_score=0.5, booster='gbtree', colsample_bylevel=1,\n",
      "              colsample_bynode=1, colsample_bytree=1, eval_metric='mlogloss',\n",
      "              gamma=0, gpu_id=-1, importance_type='gain',\n",
      "              interaction_constraints='', learning_rate=0.300000012,\n",
      "              max_delta_step=0, max_depth=6, min_child_weight=1, missing=nan,\n",
      "              monotone_constraints='()', n_estimators=100, n_jobs=16,\n",
      "              num_parallel_tree=1, random_state=0, reg_alpha=0, reg_lambda=1,\n",
      "              scale_pos_weight=1, subsample=1, tree_method='exact',\n",
      "              validate_parameters=1, verbosity=None)\n",
      "Accuracy: 77.62% Standard Deviation: (0.55%)\n"
     ]
    }
   ],
   "source": [
    "# k-fold cross validation evaluation of xgboost model\n",
    "from sklearn.model_selection import KFold\n",
    "from sklearn.model_selection import cross_val_score\n",
    "\n",
    "# CV model\n",
    "model_xgb_kfold_over = XGBClassifier(eval_metric='mlogloss')\n",
    "model_5 = model_xgb_kfold_over.fit(X_train_xgb_o, y_train_xgb_o)\n",
    "kfold = KFold(n_splits=10)\n",
    "pred_kfold = model_5.predict(X_test_xgb_o)\n",
    "print(model_5)\n",
    "\n",
    "results = cross_val_score(model_xgb_kfold_over, X_train_xgb_o, y_train_xgb_o, cv=kfold)\n",
    "print(\"Accuracy: %.2f%% Standard Deviation: (%.2f%%)\" % (results.mean()*100, results.std()*100))"
   ]
  },
  {
   "cell_type": "code",
   "execution_count": 55,
   "id": "c831705f",
   "metadata": {
    "hidden": true
   },
   "outputs": [
    {
     "name": "stdout",
     "output_type": "stream",
     "text": [
      "              precision    recall  f1-score   support\n",
      "\n",
      "           0       0.80      0.83      0.81     11437\n",
      "           1       0.74      0.70      0.72      7957\n",
      "\n",
      "    accuracy                           0.77     19394\n",
      "   macro avg       0.77      0.76      0.76     19394\n",
      "weighted avg       0.77      0.77      0.77     19394\n",
      "\n"
     ]
    },
    {
     "data": {
      "text/html": [
       "<style  type=\"text/css\" >\n",
       "#T_2d323_row0_col0,#T_2d323_row1_col1{\n",
       "            background-color:  #08306b;\n",
       "            color:  #f1f1f1;\n",
       "        }#T_2d323_row0_col1,#T_2d323_row1_col0{\n",
       "            background-color:  #f7fbff;\n",
       "            color:  #000000;\n",
       "        }</style><table id=\"T_2d323_\" ><thead>    <tr>        <th class=\"blank level0\" ></th>        <th class=\"col_heading level0 col0\" >Predicted False</th>        <th class=\"col_heading level0 col1\" >Predicted True</th>    </tr></thead><tbody>\n",
       "                <tr>\n",
       "                        <th id=\"T_2d323_level0_row0\" class=\"row_heading level0 row0\" >Actual False</th>\n",
       "                        <td id=\"T_2d323_row0_col0\" class=\"data row0 col0\" >9438</td>\n",
       "                        <td id=\"T_2d323_row0_col1\" class=\"data row0 col1\" >1999</td>\n",
       "            </tr>\n",
       "            <tr>\n",
       "                        <th id=\"T_2d323_level0_row1\" class=\"row_heading level0 row1\" >Actual True</th>\n",
       "                        <td id=\"T_2d323_row1_col0\" class=\"data row1 col0\" >2397</td>\n",
       "                        <td id=\"T_2d323_row1_col1\" class=\"data row1 col1\" >5560</td>\n",
       "            </tr>\n",
       "    </tbody></table>"
      ],
      "text/plain": [
       "<pandas.io.formats.style.Styler at 0x1ea2a020fd0>"
      ]
     },
     "execution_count": 55,
     "metadata": {},
     "output_type": "execute_result"
    }
   ],
   "source": [
    "print(classification_report(y_test_xgb_o, pred_kfold))\n",
    "df_matrix=pd.DataFrame(confusion_matrix(y_test_xgb_o, pred_kfold), \n",
    "             columns=[\"Predicted False\", \"Predicted True\"], \n",
    "             index=[\"Actual False\", \"Actual True\"])\n",
    "df_matrix.style.background_gradient(cmap='Blues')"
   ]
  },
  {
   "cell_type": "code",
   "execution_count": 70,
   "id": "e81b71b1",
   "metadata": {
    "deletable": false,
    "editable": false,
    "hidden": true,
    "run_control": {
     "frozen": true
    }
   },
   "outputs": [],
   "source": [
    "# save the model to disk\n",
    "filename = '../Models/model_xgb_kfold_over.sav'\n",
    "pickle.dump(model_xgb_kfold_over, open(filename, 'wb'))"
   ]
  }
 ],
 "metadata": {
  "kernelspec": {
   "display_name": "Python 3",
   "language": "python",
   "name": "python3"
  },
  "language_info": {
   "codemirror_mode": {
    "name": "ipython",
    "version": 3
   },
   "file_extension": ".py",
   "mimetype": "text/x-python",
   "name": "python",
   "nbconvert_exporter": "python",
   "pygments_lexer": "ipython3",
   "version": "3.8.8"
  }
 },
 "nbformat": 4,
 "nbformat_minor": 5
}
