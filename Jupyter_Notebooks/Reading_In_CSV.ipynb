{
 "cells": [
  {
   "cell_type": "code",
   "execution_count": 1,
   "id": "06c22ac7",
   "metadata": {},
   "outputs": [],
   "source": [
    "import pandas as pd"
   ]
  },
  {
   "cell_type": "markdown",
   "id": "bbc86c5b",
   "metadata": {},
   "source": [
    "# Preprocessing "
   ]
  },
  {
   "cell_type": "code",
   "execution_count": null,
   "id": "79cf6a36",
   "metadata": {
    "deletable": false,
    "editable": false,
    "run_control": {
     "frozen": true
    }
   },
   "outputs": [],
   "source": [
    "def import_file(filename):\n",
    "    '''\n",
    "    takes a file name to 1 file of Fannie Mae data\n",
    "    relative path is hard coded in data_path and extracted_data_path\n",
    "    returns a dataframe containing 1 file worth of data\n",
    "    '''\n",
    "    data_path = './data/'\n",
    "    print(f'Loading {filename}')\n",
    "    \n",
    "    return pd.read_csv(data_path + filename, delimiter='|', names=col_headers, \n",
    "    usecols = [i for i in col_headers if i not in col_discard])"
   ]
  },
  {
   "cell_type": "code",
   "execution_count": null,
   "id": "972be344",
   "metadata": {
    "deletable": false,
    "editable": false,
    "run_control": {
     "frozen": true
    }
   },
   "outputs": [],
   "source": [
    "df = import_file('2016Q1.csv')"
   ]
  },
  {
   "cell_type": "code",
   "execution_count": null,
   "id": "7e5fce0f",
   "metadata": {
    "deletable": false,
    "editable": false,
    "run_control": {
     "frozen": true
    }
   },
   "outputs": [],
   "source": [
    "def impute_nulls(df):\n",
    "    print('Imputing has started!!')\n",
    "\n",
    "    df['Home Ready Program Indicator'].fillna('N', inplace=True)\n",
    "    df['Current Loan Delinquency Status'] = df['Current Loan Delinquency Status'].replace('XX', np.NaN)\n",
    "\n",
    "    df[[\n",
    "    'Monthly Reporting Period',\n",
    "    'Origination Date', \n",
    "    'Maturity Date', \n",
    "    'Foreclosure Date',\n",
    "    'Current Loan Delinquency Status',\n",
    "    'Current Interest Rate', \n",
    "    'LoanAge', \n",
    "    'Maturity Date']]  = df[[\n",
    "                'Monthly Reporting Period',\n",
    "                'Origination Date', \n",
    "                'Maturity Date', \n",
    "                'Foreclosure Date',\n",
    "                'Current Loan Delinquency Status',\n",
    "                'Current Interest Rate', \n",
    "                'Loan Age', \n",
    "                'Maturity Date']].ffill()\n",
    "    print('File Imputed!')\n",
    "    return df"
   ]
  },
  {
   "cell_type": "code",
   "execution_count": null,
   "id": "73cd28fa",
   "metadata": {
    "deletable": false,
    "editable": false,
    "run_control": {
     "frozen": true
    }
   },
   "outputs": [],
   "source": [
    "df = impute_nulls(df)"
   ]
  },
  {
   "cell_type": "code",
   "execution_count": null,
   "id": "5331ae88",
   "metadata": {
    "deletable": false,
    "editable": false,
    "run_control": {
     "frozen": true
    }
   },
   "outputs": [],
   "source": [
    "def change_dates(df):\n",
    "    print('Changing dates')\n",
    "    df[['Monthly Reporting Period',\n",
    "    'Origination Date', \n",
    "    'Maturity Date', \n",
    "    'Foreclosure Date']]  = df[['Monthly Reporting Period',\n",
    "                                'Origination Date', \n",
    "                                'Maturity Date', \n",
    "                                'Foreclosure Date']].astype('str')\n",
    "\n",
    "#     df['Origination Date'] = df['Origination Date'].str[:-2]\n",
    "    df['Maturity Date'] = df['Maturity Date'].str[:-2]\n",
    "#     df['Foreclosure Date'] = df['Foreclosure Date'].str[:-2]\n",
    "\n",
    "    df['Monthly Reporting Period'] = pd.to_datetime(df['Monthly Reporting Period'],format='%m%Y')\n",
    "\n",
    "    df['Origination Date'] = pd.to_datetime(df['Origination Date'],format='%m%Y')\n",
    "\n",
    "    df['Maturity Date'] = pd.to_datetime(df['Maturity Date'], format='%m%Y')\n",
    "    print('Dates have been changed!')\n",
    "    return df"
   ]
  },
  {
   "cell_type": "code",
   "execution_count": null,
   "id": "9a22feca",
   "metadata": {
    "deletable": false,
    "editable": false,
    "run_control": {
     "frozen": true
    }
   },
   "outputs": [],
   "source": [
    "df = change_dates(df)"
   ]
  },
  {
   "cell_type": "code",
   "execution_count": 3,
   "id": "4b86cffc",
   "metadata": {},
   "outputs": [],
   "source": [
    "cols = ['Reference Pool ID', 'Loan Identifier', 'Monthly Reporting Period', 'Channel', 'Seller Name', \n",
    "'Servicer Name', 'Master Servicer', 'Original Interest Rate', 'Current Interest Rate', 'Original UPB', \n",
    "'UP Bat Issuance', 'Current Actual UPB', 'Original Loan Term', 'Origination Date', 'First Payment Date', \n",
    "'Loan Age', 'Remaining Months to Legal Maturity', 'Remaining Months To Maturity', 'Maturity Date', 'Original Loan to Value Ratio (LTV)', \n",
    "'Original Combined Loan to Value Ratio (CLTV)', 'Number of Borrowers', \n",
    "'Debt-To-Income (DTI)', 'Borrower Credit Score at Origination', 'Co-Borrower Credit Score at Origination', \n",
    "'First Time Home Buyer Indicator', 'Loan Purpose', 'Property Type', 'Number of Units', 'Occupancy Status', \n",
    "'Property State', 'Metropolitan Statistical Area (MSA)', 'Zip Code Short', 'Mortgage Insurance Percentage',\n",
    "'Amortization Type', 'Prepayment Penalty Indicator', 'Interest Only Loan Indicator', \n",
    "'Interest Only First Principal And Interest Payment Date', 'Months to Amortization', \n",
    "'Current Loan Delinquency Status', 'Loan Payment History', 'Modification Flag', \n",
    "'Mortgage Insurance Cancellation Indicator', 'Zero Balance Code','Zero Balance Effective Date', \n",
    "'UPB at the Time of Removal', 'Repurchase Date', 'Scheduled Principal Current','Total Principal Current', \n",
    "'Unscheduled Principal Current', 'Last Paid Installment Date', 'Foreclosure Date','Disposition Date', \n",
    "'Foreclosure Costs', 'Property Preservation and Repair Costs', 'Asset Recovery Costs',\n",
    "'Miscellaneous Holding Expenses and Credits', 'Associated Taxes for Holding Property', \n",
    "'Net Sales Proceeds','Credit Enhancement Proceeds', 'Repurchase Make Whole Proceeds', \n",
    "'Other Foreclosure Proceeds', 'Non-Interest Bearing UPB','Principal Forgiveness Amount', \n",
    "'Original List Start Date', 'Original List Price', 'Current List Start Date','Current List Price', \n",
    "'Borrower Credit Score At Issuance', 'Co-Borrower Credit Score At Issuance', 'Borrower Credit Score Current',\n",
    "'Co-Borrower Credit Score Current', 'Mortgage Insurance Type', 'Servicing Activity Indicator', \n",
    "'Current Period Modification Loss Amount', 'CumulativeModification Loss Amount',\n",
    "'Current Period Credit Event Net Gain or Loss', 'Cumulative Credit Event Net Gain or Loss',\n",
    "'Home Ready Program Indicator', 'Foreclosure Principal Write-off Amount', 'Relocation Mortgage Indicator',\n",
    "'Zero Balance Code Change Date', 'Loan Holdback Indicator', 'Loan Holdback Effective Date', \n",
    "'Delinquent Accrued Interest','Property Valuation Method', 'High Balance Loan Indicator', \n",
    "'ARM Initial Fixed-Rate Period  ? 5 YR Indicator','ARM Product Type', 'Initial Fixed-Rate Period', \n",
    "'Interest Rate Adjustment Frequency','Next Interest Rate Adjustment Date','Next Payment Change Date', \n",
    "'Index', 'ARM Cap Structure', 'Initial Interest Rate Cap Up Percent', 'Periodic Interest Rate Cap Up Percent',\n",
    "'Lifetime Interest Rate Cap Up Percent', 'Mortgage Margin', 'ARM Balloon Indicator', 'ARM Plan Number', \n",
    "'Borrower Assistance Plan', 'High Loan to Value (HLTV) Refinance Option Indicator', 'Deal Name', \n",
    "'Repurchase Make Whole Proceeds Flag','Alternative Delinquency Resolution', \n",
    "'Alternative Delinquency Resolution Count', 'Total Deferral Amount']"
   ]
  },
  {
   "cell_type": "code",
   "execution_count": 4,
   "id": "3323fa31",
   "metadata": {},
   "outputs": [],
   "source": [
    "unused = ['ARM Balloon Indicator', 'ARM Cap Structure', 'ARM Initial Fixed-Rate Period  ? 5 YR Indicator',\n",
    "'ARM Plan Number', 'ARM Product Type', 'Alternative Delinquency Resolution', 'Alternative Delinquency Resolution Count',\n",
    "'Asset Recovery Costs', 'Associated Taxes for Holding Property', 'Borrower Credit Score At Issuance',\n",
    "'Borrower Credit Score Current', 'Channel', 'Co-Borrower Credit Score At Issuance', 'Co-Borrower Credit Score Current',\n",
    "'Credit Enhancement Proceeds', 'Cumulative Credit Event Net Gain or Loss', 'CumulativeModification Loss Amount',\n",
    "'Current List Price', 'Current List Start Date', 'Current Period Credit Event Net Gain or Loss',\n",
    "'Current Period Modification Loss Amount', 'Deal Name', 'Disposition Date', 'First Payment Date', 'Foreclosure Costs', 'Foreclosure Principal Write-off Amount', 'High Loan to Value (HLTV) Refinance Option Indicator',\n",
    "'Index', 'Initial Fixed-Rate Period', 'Initial Interest Rate Cap Up Percent',\n",
    "'Interest Only First Principal And Interest Payment Date', 'Interest Only Loan Indicator', 'Interest Rate Adjustment Frequency',\n",
    "'Last Paid Installment Date', 'Lifetime Interest Rate Cap Up Percent', 'Loan Holdback Effective Date', 'Loan Holdback Indicator',\n",
    "'Loan Purpose', 'Master Servicer', 'Metropolitan Statistical Area (MSA)', 'Miscellaneous Holding Expenses and Credits',\n",
    "'Months to Amortization', 'Mortgage Insurance Cancellation Indicator', 'Mortgage Insurance Type',\n",
    "'Mortgage Margin', 'Net Sales Proceeds', 'Next Interest Rate Adjustment Date', 'Next Payment Change Date',\n",
    "'Non-Interest Bearing UPB', 'Number of Units', 'Occupancy Status', 'Original Combined Loan to Value Ratio (CLTV)',\n",
    "'Original List Price', 'Original List Start Date', 'Other Foreclosure Proceeds', 'Periodic Interest Rate Cap Up Percent',\n",
    "'Prepayment Penalty Indicator', 'Principal Forgiveness Amount', 'Property Preservation and Repair Costs',\n",
    "'Property State', 'Property Type', 'Reference Pool ID', 'Relocation Mortgage Indicator', 'Remaining Months To Maturity',\n",
    "'Remaining Months to Legal Maturity', 'Repurchase Date', 'Repurchase Make Whole Proceeds', 'Repurchase Make Whole Proceeds Flag',\n",
    "'Scheduled Principal Current', 'Seller Name', 'Servicer Name', 'Servicing Activity Indicator', 'Total Deferral Amount',\n",
    "'Total Principal Current', 'UP Bat Issuance', 'UPB at the Time of Removal', 'Unscheduled Principal Current',\n",
    "'Zero Balance Code', 'Zero Balance Code Change Date', 'Zero Balance Effective Date', 'Zip Code Short', 'Mortgage Insurance Percentage',\n",
    " 'Delinquent Accrued Interest', 'Loan Payment History', 'Property Valuation Method', 'Borrower Assistance Plan']"
   ]
  },
  {
   "cell_type": "code",
   "execution_count": null,
   "id": "2387297c",
   "metadata": {},
   "outputs": [],
   "source": []
  },
  {
   "cell_type": "code",
   "execution_count": null,
   "id": "4c73fc87",
   "metadata": {},
   "outputs": [],
   "source": []
  },
  {
   "cell_type": "markdown",
   "id": "5d9dd4aa",
   "metadata": {},
   "source": [
    "## 2016 Combinded Data"
   ]
  },
  {
   "cell_type": "code",
   "execution_count": 5,
   "id": "66e33ed8",
   "metadata": {
    "scrolled": true
   },
   "outputs": [],
   "source": [
    "df_2016Q1  = pd.read_csv('data/2016Q1.csv', delimiter='|', names= cols,  usecols = [i for i in cols if i not in unused])\n",
    "df_2016Q2  = pd.read_csv('data/2016Q2.csv', delimiter='|', names= cols,  usecols = [i for i in cols if i not in unused])\n",
    "df_2016Q3  = pd.read_csv('data/2016Q3.csv', delimiter='|', names= cols,  usecols = [i for i in cols if i not in unused])\n",
    "df_2016Q4  = pd.read_csv('data/2016Q4.csv', delimiter='|', names= cols,  usecols = [i for i in cols if i not in unused])"
   ]
  },
  {
   "cell_type": "code",
   "execution_count": 6,
   "id": "06a4482b",
   "metadata": {},
   "outputs": [],
   "source": [
    "df_2016 = pd.concat([df_2016Q1, df_2016Q2, df_2016Q3, df_2016Q4])"
   ]
  },
  {
   "cell_type": "code",
   "execution_count": 8,
   "id": "1395cf0e",
   "metadata": {},
   "outputs": [
    {
     "data": {
      "text/plain": [
       "(104066769, 22)"
      ]
     },
     "execution_count": 8,
     "metadata": {},
     "output_type": "execute_result"
    }
   ],
   "source": [
    "df_2016.shape"
   ]
  },
  {
   "cell_type": "code",
   "execution_count": null,
   "id": "19892d6f",
   "metadata": {},
   "outputs": [],
   "source": []
  },
  {
   "cell_type": "code",
   "execution_count": 7,
   "id": "087c1c18",
   "metadata": {},
   "outputs": [
    {
     "name": "stdout",
     "output_type": "stream",
     "text": [
      "Loan Identifier: total of 0 nulls- 0.0%\n",
      "Monthly Reporting Period: total of 0 nulls- 0.0%\n",
      "Original Interest Rate: total of 28 nulls- 0.0%\n",
      "Current Interest Rate: total of 1024022 nulls- 0.98%\n",
      "Original UPB: total of 28 nulls- 0.0%\n",
      "Current Actual UPB: total of 0 nulls- 0.0%\n",
      "Original Loan Term: total of 28 nulls- 0.0%\n",
      "Origination Date: total of 28 nulls- 0.0%\n",
      "Loan Age: total of 1024130 nulls- 0.98%\n",
      "Maturity Date: total of 1024158 nulls- 0.98%\n",
      "Original Loan to Value Ratio (LTV): total of 28 nulls- 0.0%\n",
      "Number of Borrowers: total of 28 nulls- 0.0%\n",
      "Debt-To-Income (DTI): total of 14455 nulls- 0.01%\n",
      "Borrower Credit Score at Origination: total of 37534 nulls- 0.04%\n",
      "Co-Borrower Credit Score at Origination: total of 51693044 nulls- 49.67%\n",
      "First Time Home Buyer Indicator: total of 73 nulls- 0.0%\n",
      "Amortization Type: total of 0 nulls- 0.0%\n",
      "Current Loan Delinquency Status: total of 0 nulls- 0.0%\n",
      "Modification Flag: total of 1024034 nulls- 0.98%\n",
      "Foreclosure Date: total of 104065078 nulls- 100.0%\n",
      "Home Ready Program Indicator: total of 95492743 nulls- 91.76%\n",
      "High Balance Loan Indicator: total of 0 nulls- 0.0%\n"
     ]
    }
   ],
   "source": [
    "for i in df_2016.columns:\n",
    "    tot = sum(df_2016[i].isnull())\n",
    "    print(f\"{i}: total of {tot} nulls- {round(((tot / len(df_2016)) * 100), 2)}%\")"
   ]
  },
  {
   "cell_type": "code",
   "execution_count": 9,
   "id": "cb8d7760",
   "metadata": {},
   "outputs": [],
   "source": [
    "def impute_nulls(df):\n",
    "    print('Imputing has started!!')\n",
    "\n",
    "    df['Home Ready Program Indicator'].fillna('N', inplace=True)\n",
    "    df['Current Loan Delinquency Status'] = df['Current Loan Delinquency Status'].replace('XX', np.NaN)\n",
    "\n",
    "    df[[\n",
    "    # 'Monthly Reporting Period',\n",
    "    # 'Origination Date', \n",
    "    # 'Maturity Date', \n",
    "    # 'Foreclosure Date',\n",
    "    'Current Loan Delinquency Status',\n",
    "    'Current Interest Rate', \n",
    "    'Loan Age']]  = df[[\n",
    "                # 'Monthly Reporting Period',\n",
    "                # 'Origination Date', \n",
    "                # 'Maturity Date', \n",
    "                # 'Foreclosure Date',\n",
    "                'Current Loan Delinquency Status',\n",
    "                'Current Interest Rate', \n",
    "                'Loan Age']].ffill()\n",
    "    print('File Imputed!')\n",
    "    return df"
   ]
  },
  {
   "cell_type": "code",
   "execution_count": 10,
   "id": "0a1cb435",
   "metadata": {},
   "outputs": [
    {
     "ename": "NameError",
     "evalue": "name 'imput_nulls' is not defined",
     "output_type": "error",
     "traceback": [
      "\u001b[1;31m---------------------------------------------------------------------------\u001b[0m",
      "\u001b[1;31mNameError\u001b[0m                                 Traceback (most recent call last)",
      "\u001b[1;32m<ipython-input-10-6312138e922e>\u001b[0m in \u001b[0;36m<module>\u001b[1;34m\u001b[0m\n\u001b[1;32m----> 1\u001b[1;33m \u001b[0mimput_nulls\u001b[0m\u001b[1;33m(\u001b[0m\u001b[0mdf_2016\u001b[0m\u001b[1;33m)\u001b[0m\u001b[1;33m\u001b[0m\u001b[1;33m\u001b[0m\u001b[0m\n\u001b[0m",
      "\u001b[1;31mNameError\u001b[0m: name 'imput_nulls' is not defined"
     ]
    }
   ],
   "source": [
    "imput_nulls(df_2016)"
   ]
  },
  {
   "cell_type": "code",
   "execution_count": null,
   "id": "709a0c40",
   "metadata": {},
   "outputs": [],
   "source": []
  },
  {
   "cell_type": "code",
   "execution_count": null,
   "id": "6089149e",
   "metadata": {},
   "outputs": [],
   "source": []
  },
  {
   "cell_type": "code",
   "execution_count": null,
   "id": "3be4acb2",
   "metadata": {
    "deletable": false,
    "editable": false,
    "run_control": {
     "frozen": true
    }
   },
   "outputs": [],
   "source": [
    "df_2016['Home Ready Program Indicator'].value_counts(dropna=False)"
   ]
  },
  {
   "cell_type": "code",
   "execution_count": null,
   "id": "bb2eb02b",
   "metadata": {
    "deletable": false,
    "editable": false,
    "run_control": {
     "frozen": true
    }
   },
   "outputs": [],
   "source": [
    "df_2016['Borrower Assistance Plan'].value_counts(dropna=False)"
   ]
  },
  {
   "cell_type": "code",
   "execution_count": null,
   "id": "ea2da0a5",
   "metadata": {},
   "outputs": [],
   "source": [
    "df_2016.to_csv('2016.csv', index=False)"
   ]
  },
  {
   "cell_type": "markdown",
   "id": "40434d25",
   "metadata": {},
   "source": [
    "## 2017 Combined Data"
   ]
  },
  {
   "cell_type": "code",
   "execution_count": null,
   "id": "206117ba",
   "metadata": {
    "deletable": false,
    "editable": false,
    "run_control": {
     "frozen": true
    },
    "scrolled": true
   },
   "outputs": [],
   "source": [
    "df_2017Q1  = pd.read_csv('data/2017Q1.csv', delimiter='|', names= cols,  usecols = [i for i in cols if i not in unused])\n",
    "df_2017Q2  = pd.read_csv('data/2017Q2.csv', delimiter='|', names= cols,  usecols = [i for i in cols if i not in unused])\n",
    "df_2017Q3  = pd.read_csv('data/2017Q3.csv', delimiter='|', names= cols,  usecols = [i for i in cols if i not in unused])\n",
    "df_2017Q4  = pd.read_csv('data/2017Q4.csv', delimiter='|', names= cols,  usecols = [i for i in cols if i not in unused])"
   ]
  },
  {
   "cell_type": "code",
   "execution_count": null,
   "id": "21a83b6b",
   "metadata": {
    "deletable": false,
    "editable": false,
    "run_control": {
     "frozen": true
    }
   },
   "outputs": [],
   "source": [
    "df_2017 = pd.concat([df_2017Q1, df_2017Q2, df_2017Q3, df_2017Q4])"
   ]
  },
  {
   "cell_type": "code",
   "execution_count": null,
   "id": "ee843b2c",
   "metadata": {
    "deletable": false,
    "editable": false,
    "run_control": {
     "frozen": true
    }
   },
   "outputs": [],
   "source": [
    "df_2017.to_csv('2017.csv', index=False)"
   ]
  },
  {
   "cell_type": "markdown",
   "id": "820abb61",
   "metadata": {},
   "source": [
    "## 2018 Combined Data"
   ]
  },
  {
   "cell_type": "code",
   "execution_count": null,
   "id": "93ac286e",
   "metadata": {
    "deletable": false,
    "editable": false,
    "run_control": {
     "frozen": true
    }
   },
   "outputs": [],
   "source": [
    "df_2018Q1  = pd.read_csv('data/2018Q1.csv', delimiter='|', names= cols,  usecols = [i for i in cols if i not in unused])\n",
    "df_2018Q2  = pd.read_csv('data/2018Q2.csv', delimiter='|', names= cols,  usecols = [i for i in cols if i not in unused])\n",
    "df_2018Q3  = pd.read_csv('data/2018Q3.csv', delimiter='|', names= cols,  usecols = [i for i in cols if i not in unused])\n",
    "df_2018Q4  = pd.read_csv('data/2018Q4.csv', delimiter='|', names= cols,  usecols = [i for i in cols if i not in unused])"
   ]
  },
  {
   "cell_type": "code",
   "execution_count": null,
   "id": "2d22fb1c",
   "metadata": {
    "deletable": false,
    "editable": false,
    "run_control": {
     "frozen": true
    }
   },
   "outputs": [],
   "source": [
    "df_2018 = pd.concat([df_2018Q1, df_2018Q2, df_2018Q3, df_2018Q4])"
   ]
  },
  {
   "cell_type": "code",
   "execution_count": null,
   "id": "4755db10",
   "metadata": {
    "deletable": false,
    "editable": false,
    "run_control": {
     "frozen": true
    }
   },
   "outputs": [],
   "source": [
    "df_2018.to_csv('2018.csv', index=False)"
   ]
  },
  {
   "cell_type": "markdown",
   "id": "064427b0",
   "metadata": {},
   "source": [
    "## 2019 Combined Data"
   ]
  },
  {
   "cell_type": "code",
   "execution_count": null,
   "id": "6baf7256",
   "metadata": {
    "deletable": false,
    "editable": false,
    "run_control": {
     "frozen": true
    }
   },
   "outputs": [],
   "source": [
    "df_2019Q1  = pd.read_csv('data/2019Q1.csv', delimiter='|', names= cols,  usecols = [i for i in cols if i not in unused])\n",
    "df_2019Q2  = pd.read_csv('data/2019Q2.csv', delimiter='|', names= cols,  usecols = [i for i in cols if i not in unused])\n",
    "df_2019Q3  = pd.read_csv('data/2019Q3.csv', delimiter='|', names= cols,  usecols = [i for i in cols if i not in unused])\n",
    "df_2019Q4  = pd.read_csv('data/2019Q4.csv', delimiter='|', names= cols,  usecols = [i for i in cols if i not in unused])"
   ]
  },
  {
   "cell_type": "code",
   "execution_count": null,
   "id": "cb0b6d0a",
   "metadata": {
    "deletable": false,
    "editable": false,
    "run_control": {
     "frozen": true
    }
   },
   "outputs": [],
   "source": [
    "df_2019 = pd.concat([df_2019Q1, df_2019Q2, df_2019Q3, df_2019Q4])"
   ]
  },
  {
   "cell_type": "code",
   "execution_count": null,
   "id": "59e263bb",
   "metadata": {
    "deletable": false,
    "editable": false,
    "run_control": {
     "frozen": true
    }
   },
   "outputs": [],
   "source": [
    "df_2019.to_csv('2019.csv', index=False)"
   ]
  },
  {
   "cell_type": "markdown",
   "id": "e98ba36e",
   "metadata": {
    "heading_collapsed": true
   },
   "source": [
    "## 2020 Combined Data"
   ]
  },
  {
   "cell_type": "code",
   "execution_count": null,
   "id": "cdc27c89",
   "metadata": {
    "deletable": false,
    "editable": false,
    "hidden": true,
    "run_control": {
     "frozen": true
    }
   },
   "outputs": [],
   "source": [
    "df_2020Q1  = pd.read_csv('data/2020Q1.csv', delimiter='|', names= cols,  usecols = [i for i in cols if i not in unused])\n",
    "df_2020Q2  = pd.read_csv('data/2020Q2.csv', delimiter='|', names= cols,  usecols = [i for i in cols if i not in unused])\n",
    "df_2020Q3  = pd.read_csv('data/2020Q3.csv', delimiter='|', names= cols,  usecols = [i for i in cols if i not in unused])\n",
    "df_2020Q4  = pd.read_csv('data/2020Q4.csv', delimiter='|', names= cols,  usecols = [i for i in cols if i not in unused])"
   ]
  },
  {
   "cell_type": "code",
   "execution_count": null,
   "id": "da3583ee",
   "metadata": {
    "deletable": false,
    "editable": false,
    "hidden": true,
    "run_control": {
     "frozen": true
    }
   },
   "outputs": [],
   "source": [
    "df_2020 = pd.concat([df_2020Q1, df_2020Q2, df_2020Q3, df_2020Q4])"
   ]
  },
  {
   "cell_type": "code",
   "execution_count": null,
   "id": "f0ffed93",
   "metadata": {
    "deletable": false,
    "editable": false,
    "hidden": true,
    "run_control": {
     "frozen": true
    }
   },
   "outputs": [],
   "source": [
    "df_2020.to_csv('2020.csv', index=False)"
   ]
  },
  {
   "cell_type": "code",
   "execution_count": null,
   "id": "472dc563",
   "metadata": {
    "hidden": true
   },
   "outputs": [],
   "source": []
  }
 ],
 "metadata": {
  "kernelspec": {
   "display_name": "Python 3",
   "language": "python",
   "name": "python3"
  },
  "language_info": {
   "codemirror_mode": {
    "name": "ipython",
    "version": 3
   },
   "file_extension": ".py",
   "mimetype": "text/x-python",
   "name": "python",
   "nbconvert_exporter": "python",
   "pygments_lexer": "ipython3",
   "version": "3.8.8"
  }
 },
 "nbformat": 4,
 "nbformat_minor": 5
}
